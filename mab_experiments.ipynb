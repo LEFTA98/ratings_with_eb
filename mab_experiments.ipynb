{
 "cells": [
  {
   "cell_type": "markdown",
   "id": "9283f62e",
   "metadata": {},
   "source": [
    "## Step 0: Imports"
   ]
  },
  {
   "cell_type": "code",
   "execution_count": 40,
   "id": "93b7f5cb",
   "metadata": {},
   "outputs": [],
   "source": [
    "import numpy as np\n",
    "import pandas as pd\n",
    "import scipy\n",
    "import matplotlib.pyplot as plt\n",
    "import seaborn as sns\n",
    "\n",
    "from sklearn.model_selection import train_test_split\n",
    "from scipy.stats import beta"
   ]
  },
  {
   "cell_type": "markdown",
   "id": "9752e135",
   "metadata": {},
   "source": [
    "## Step 1: Transform and split the data"
   ]
  },
  {
   "cell_type": "code",
   "execution_count": 12,
   "id": "bb84044d",
   "metadata": {},
   "outputs": [],
   "source": [
    "kuairec_df = pd.read_csv('KuaiRec 2.0/data/small_matrix.csv')"
   ]
  },
  {
   "cell_type": "code",
   "execution_count": 13,
   "id": "e513a511",
   "metadata": {},
   "outputs": [],
   "source": [
    "kuairec_df['liked'] = kuairec_df['watch_ratio'] > 1.95\n",
    "kuairec_df['liked'] = kuairec_df['liked'].astype(int)"
   ]
  },
  {
   "cell_type": "code",
   "execution_count": 16,
   "id": "9fd8654b",
   "metadata": {},
   "outputs": [],
   "source": [
    "video_df = kuairec_df.groupby(['video_id']).mean()['liked']"
   ]
  },
  {
   "cell_type": "code",
   "execution_count": 21,
   "id": "3d24eff4",
   "metadata": {},
   "outputs": [],
   "source": [
    "train_videos, test_videos = train_test_split(video_df, test_size = 0.4)"
   ]
  },
  {
   "cell_type": "code",
   "execution_count": 31,
   "id": "153dfbde",
   "metadata": {},
   "outputs": [],
   "source": [
    "# look up zero-inflated fits for beta, we're throwing out a small fraction of 0-like videos\n",
    "prior_a, prior_b, loc, scale = beta.fit([i for i in train_videos.values if i != 0], floc=0, fscale=1)"
   ]
  },
  {
   "cell_type": "code",
   "execution_count": 38,
   "id": "6aa682a6",
   "metadata": {},
   "outputs": [],
   "source": [
    "r = beta.rvs(prior_a, prior_b, size=5000)"
   ]
  },
  {
   "cell_type": "code",
   "execution_count": 159,
   "id": "60697107",
   "metadata": {},
   "outputs": [
    {
     "data": {
      "text/plain": [
       "Text(0.5, 1.0, 'density plot of eb beta prior')"
      ]
     },
     "execution_count": 159,
     "metadata": {},
     "output_type": "execute_result"
    },
    {
     "data": {
      "image/png": "[encoded data removed]",
      "text/plain": [
       "<Figure size 432x288 with 1 Axes>"
      ]
     },
     "metadata": {
      "needs_background": "light"
     },
     "output_type": "display_data"
    }
   ],
   "source": [
    "sns.kdeplot(r).set_title('density plot of eb beta prior')"
   ]
  },
  {
   "cell_type": "markdown",
   "id": "4b957231",
   "metadata": {},
   "source": [
    "## Step 2: Merge the datasets and select from test set different products"
   ]
  },
  {
   "cell_type": "code",
   "execution_count": 47,
   "id": "9f507b46",
   "metadata": {},
   "outputs": [],
   "source": [
    "kuairec_test = pd.merge(kuairec_df, test_videos, on='video_id')\n",
    "kuairec_test = kuairec_test.rename(columns={'liked_x': 'liked', 'liked_y': 'like_ratio'})"
   ]
  },
  {
   "cell_type": "code",
   "execution_count": 48,
   "id": "711543f4",
   "metadata": {},
   "outputs": [
    {
     "data": {
      "text/html": [
       "<div>\n",
       "<style scoped>\n",
       "    .dataframe tbody tr th:only-of-type {\n",
       "        vertical-align: middle;\n",
       "    }\n",
       "\n",
       "    .dataframe tbody tr th {\n",
       "        vertical-align: top;\n",
       "    }\n",
       "\n",
       "    .dataframe thead th {\n",
       "        text-align: right;\n",
       "    }\n",
       "</style>\n",
       "<table border=\"1\" class=\"dataframe\">\n",
       "  <thead>\n",
       "    <tr style=\"text-align: right;\">\n",
       "      <th></th>\n",
       "      <th>user_id</th>\n",
       "      <th>video_id</th>\n",
       "      <th>play_duration</th>\n",
       "      <th>video_duration</th>\n",
       "      <th>time</th>\n",
       "      <th>date</th>\n",
       "      <th>timestamp</th>\n",
       "      <th>watch_ratio</th>\n",
       "      <th>liked</th>\n",
       "      <th>like_ratio</th>\n",
       "    </tr>\n",
       "  </thead>\n",
       "  <tbody>\n",
       "    <tr>\n",
       "      <th>0</th>\n",
       "      <td>14</td>\n",
       "      <td>148</td>\n",
       "      <td>4381</td>\n",
       "      <td>6067</td>\n",
       "      <td>2020-07-05 05:27:48.378</td>\n",
       "      <td>20200705.0</td>\n",
       "      <td>1.593898e+09</td>\n",
       "      <td>0.722103</td>\n",
       "      <td>0</td>\n",
       "      <td>0.127706</td>\n",
       "    </tr>\n",
       "    <tr>\n",
       "      <th>1</th>\n",
       "      <td>19</td>\n",
       "      <td>148</td>\n",
       "      <td>8167</td>\n",
       "      <td>6067</td>\n",
       "      <td>2020-07-23 12:08:54.16</td>\n",
       "      <td>20200723.0</td>\n",
       "      <td>1.595477e+09</td>\n",
       "      <td>1.346135</td>\n",
       "      <td>0</td>\n",
       "      <td>0.127706</td>\n",
       "    </tr>\n",
       "    <tr>\n",
       "      <th>2</th>\n",
       "      <td>21</td>\n",
       "      <td>148</td>\n",
       "      <td>8811</td>\n",
       "      <td>6067</td>\n",
       "      <td>2020-07-05 16:49:12.936</td>\n",
       "      <td>20200705.0</td>\n",
       "      <td>1.593939e+09</td>\n",
       "      <td>1.452283</td>\n",
       "      <td>0</td>\n",
       "      <td>0.127706</td>\n",
       "    </tr>\n",
       "    <tr>\n",
       "      <th>3</th>\n",
       "      <td>23</td>\n",
       "      <td>148</td>\n",
       "      <td>11538</td>\n",
       "      <td>6067</td>\n",
       "      <td>2020-07-11 22:32:48.746</td>\n",
       "      <td>20200711.0</td>\n",
       "      <td>1.594478e+09</td>\n",
       "      <td>1.901764</td>\n",
       "      <td>0</td>\n",
       "      <td>0.127706</td>\n",
       "    </tr>\n",
       "    <tr>\n",
       "      <th>4</th>\n",
       "      <td>24</td>\n",
       "      <td>148</td>\n",
       "      <td>12856</td>\n",
       "      <td>6067</td>\n",
       "      <td>2020-07-19 08:14:18.039</td>\n",
       "      <td>20200719.0</td>\n",
       "      <td>1.595118e+09</td>\n",
       "      <td>2.119004</td>\n",
       "      <td>1</td>\n",
       "      <td>0.127706</td>\n",
       "    </tr>\n",
       "  </tbody>\n",
       "</table>\n",
       "</div>"
      ],
      "text/plain": [
       "   user_id  video_id  play_duration  video_duration                     time  \\\n",
       "0       14       148           4381            6067  2020-07-05 05:27:48.378   \n",
       "1       19       148           8167            6067   2020-07-23 12:08:54.16   \n",
       "2       21       148           8811            6067  2020-07-05 16:49:12.936   \n",
       "3       23       148          11538            6067  2020-07-11 22:32:48.746   \n",
       "4       24       148          12856            6067  2020-07-19 08:14:18.039   \n",
       "\n",
       "         date     timestamp  watch_ratio  liked  like_ratio  \n",
       "0  20200705.0  1.593898e+09     0.722103      0    0.127706  \n",
       "1  20200723.0  1.595477e+09     1.346135      0    0.127706  \n",
       "2  20200705.0  1.593939e+09     1.452283      0    0.127706  \n",
       "3  20200711.0  1.594478e+09     1.901764      0    0.127706  \n",
       "4  20200719.0  1.595118e+09     2.119004      1    0.127706  "
      ]
     },
     "execution_count": 48,
     "metadata": {},
     "output_type": "execute_result"
    }
   ],
   "source": [
    "kuairec_test.head()"
   ]
  },
  {
   "cell_type": "code",
   "execution_count": 158,
   "id": "5dcd31d9",
   "metadata": {},
   "outputs": [
    {
     "data": {
      "text/plain": [
       "Text(0.5, 1.0, 'histogram of like ratios')"
      ]
     },
     "execution_count": 158,
     "metadata": {},
     "output_type": "execute_result"
    },
    {
     "data": {
      "image/png": "[encoded data removed]",
      "text/plain": [
       "<Figure size 432x288 with 1 Axes>"
      ]
     },
     "metadata": {
      "needs_background": "light"
     },
     "output_type": "display_data"
    }
   ],
   "source": [
    "sns.histplot(test_videos.values).set_title('histogram of like ratios')"
   ]
  },
  {
   "cell_type": "code",
   "execution_count": 56,
   "id": "137ea08d",
   "metadata": {},
   "outputs": [
    {
     "data": {
      "text/plain": [
       "video_id\n",
       "600     0.679660\n",
       "154     0.692690\n",
       "5525    0.640680\n",
       "4123    0.639263\n",
       "Name: liked, dtype: float64"
      ]
     },
     "execution_count": 56,
     "metadata": {},
     "output_type": "execute_result"
    }
   ],
   "source": [
    "test_videos[test_videos > 0.6]"
   ]
  },
  {
   "cell_type": "code",
   "execution_count": 130,
   "id": "ab6baa34",
   "metadata": {},
   "outputs": [],
   "source": [
    "sampled_videos = list(test_videos[test_videos <= 0.6].sample(4, random_state=1729).keys())\n",
    "sampled_videos.append(600)"
   ]
  },
  {
   "cell_type": "code",
   "execution_count": 131,
   "id": "23980e22",
   "metadata": {},
   "outputs": [
    {
     "data": {
      "text/plain": [
       "[8530, 8404, 6898, 7559, 600]"
      ]
     },
     "execution_count": 131,
     "metadata": {},
     "output_type": "execute_result"
    }
   ],
   "source": [
    "sampled_videos"
   ]
  },
  {
   "cell_type": "code",
   "execution_count": 132,
   "id": "76dd2e06",
   "metadata": {},
   "outputs": [],
   "source": [
    "kuairec_chosen = kuairec_test[kuairec_test['video_id'].isin(sampled_videos)]"
   ]
  },
  {
   "cell_type": "code",
   "execution_count": 155,
   "id": "5ec9c475",
   "metadata": {},
   "outputs": [
    {
     "data": {
      "text/html": [
       "<div>\n",
       "<style scoped>\n",
       "    .dataframe tbody tr th:only-of-type {\n",
       "        vertical-align: middle;\n",
       "    }\n",
       "\n",
       "    .dataframe tbody tr th {\n",
       "        vertical-align: top;\n",
       "    }\n",
       "\n",
       "    .dataframe thead th {\n",
       "        text-align: right;\n",
       "    }\n",
       "</style>\n",
       "<table border=\"1\" class=\"dataframe\">\n",
       "  <thead>\n",
       "    <tr style=\"text-align: right;\">\n",
       "      <th></th>\n",
       "      <th>video_id</th>\n",
       "      <th>like_ratio</th>\n",
       "    </tr>\n",
       "  </thead>\n",
       "  <tbody>\n",
       "    <tr>\n",
       "      <th>203725</th>\n",
       "      <td>6898</td>\n",
       "      <td>0.018427</td>\n",
       "    </tr>\n",
       "    <tr>\n",
       "      <th>246010</th>\n",
       "      <td>8530</td>\n",
       "      <td>0.032601</td>\n",
       "    </tr>\n",
       "    <tr>\n",
       "      <th>274147</th>\n",
       "      <td>8404</td>\n",
       "      <td>0.028086</td>\n",
       "    </tr>\n",
       "    <tr>\n",
       "      <th>370957</th>\n",
       "      <td>600</td>\n",
       "      <td>0.679660</td>\n",
       "    </tr>\n",
       "    <tr>\n",
       "      <th>1272090</th>\n",
       "      <td>7559</td>\n",
       "      <td>0.253012</td>\n",
       "    </tr>\n",
       "  </tbody>\n",
       "</table>\n",
       "</div>"
      ],
      "text/plain": [
       "         video_id  like_ratio\n",
       "203725       6898    0.018427\n",
       "246010       8530    0.032601\n",
       "274147       8404    0.028086\n",
       "370957        600    0.679660\n",
       "1272090      7559    0.253012"
      ]
     },
     "execution_count": 155,
     "metadata": {},
     "output_type": "execute_result"
    }
   ],
   "source": [
    "kuairec_chosen[['video_id', 'like_ratio']].drop_duplicates()"
   ]
  },
  {
   "cell_type": "markdown",
   "id": "b5375c93",
   "metadata": {},
   "source": [
    "## Step 3: Set up the bandit environment"
   ]
  },
  {
   "cell_type": "code",
   "execution_count": 134,
   "id": "01d73e5e",
   "metadata": {},
   "outputs": [],
   "source": [
    "# set up experiment in a way where we can later interpolate between uninformed prior and eb\n",
    "uninformed_priors = np.ones(len(sampled_videos)*2).reshape(len(sampled_videos),2)\n",
    "eb_priors = np.array([[prior_a]*len(sampled_videos),[prior_b]*len(sampled_videos)]).T"
   ]
  },
  {
   "cell_type": "code",
   "execution_count": 135,
   "id": "a4b72d07",
   "metadata": {},
   "outputs": [],
   "source": [
    "def random_argmax(alist):\n",
    "  maxval = max(alist)\n",
    "  argmax = [idx for idx, val in enumerate(alist) if val == maxval]\n",
    "  return np.random.choice(argmax)\n",
    "\n",
    "def ts_action(actions, num_success, num_failure):\n",
    "  p_hat = [np.random.beta(num_success[a],num_failure[a]) for a in actions]\n",
    "  a = random_argmax(p_hat)\n",
    "  return a\n",
    "\n",
    "def sample_chosen_df(videos, chosen_df, action_index):\n",
    "    vid = videos[action_index]\n",
    "    seen_like = chosen_df[chosen_df['video_id']==vid].sample(1).iloc[0]['liked']\n",
    "    return seen_like"
   ]
  },
  {
   "cell_type": "code",
   "execution_count": 136,
   "id": "12ba67d5",
   "metadata": {},
   "outputs": [],
   "source": [
    "def run_multiarmed_bandit(chosen_df, \n",
    "                          videos, \n",
    "                          priors, \n",
    "                          sampling_action, \n",
    "                          timesteps, \n",
    "                          num_sims):\n",
    "\n",
    "    agg_priors_over_time = None\n",
    "    rewards_over_time = None\n",
    "    \n",
    "    for n in range(num_sims):\n",
    "        instance_priors_over_time = [priors]\n",
    "        instance_rewards_over_time = [np.zeros(len(videos))]\n",
    "        \n",
    "        for t in range(timesteps):\n",
    "            newest_prior = instance_priors_over_time[-1].copy()\n",
    "            newest_rewards = instance_rewards_over_time[-1].copy()\n",
    "            successes, failures = newest_prior.T[0,:], newest_prior.T[1,:]\n",
    "            actions = range(len(videos))\n",
    "            \n",
    "            a = sampling_action(actions, successes, failures)\n",
    "            \n",
    "            like = sample_chosen_df(videos, chosen_df, a)\n",
    "            \n",
    "            # update prior\n",
    "            newest_prior[a,0] += like\n",
    "            newest_prior[a,1] += 1 - like\n",
    "            instance_priors_over_time.append(newest_prior)\n",
    "            \n",
    "            newest_rewards[a] += like\n",
    "            instance_rewards_over_time.append(newest_rewards)\n",
    "            \n",
    "        instance_priors_over_time = np.stack(instance_priors_over_time)\n",
    "        instance_rewards_over_time = np.stack(instance_rewards_over_time)\n",
    "        \n",
    "        if agg_priors_over_time is None:\n",
    "            agg_priors_over_time = instance_priors_over_time\n",
    "        else:\n",
    "            agg_priors_over_time += instance_priors_over_time\n",
    "            \n",
    "        if rewards_over_time is None:\n",
    "            rewards_over_time = instance_rewards_over_time\n",
    "        else:\n",
    "            rewards_over_time += instance_rewards_over_time\n",
    "            \n",
    "    return agg_priors_over_time/num_sims, rewards_over_time/num_sims\n",
    "            \n",
    "        "
   ]
  },
  {
   "cell_type": "markdown",
   "id": "e2d4c0ef",
   "metadata": {},
   "source": [
    "## Step 4: Run the simulations and save data"
   ]
  },
  {
   "cell_type": "code",
   "execution_count": 144,
   "id": "945a101c",
   "metadata": {},
   "outputs": [],
   "source": [
    "timesteps = 1000\n",
    "num_sims = 10"
   ]
  },
  {
   "cell_type": "code",
   "execution_count": 145,
   "id": "3ab7be3f",
   "metadata": {},
   "outputs": [],
   "source": [
    "uninformed_prior_data, uninformed_rewards_data = run_multiarmed_bandit(kuairec_chosen,\n",
    "                                                                       sampled_videos,\n",
    "                                                                       uninformed_priors,\n",
    "                                                                       ts_action,\n",
    "                                                                       timesteps=timesteps,\n",
    "                                                                       num_sims=num_sims)"
   ]
  },
  {
   "cell_type": "code",
   "execution_count": 147,
   "id": "dec62523",
   "metadata": {},
   "outputs": [],
   "source": [
    "eb_prior_data, eb_rewards_data = run_multiarmed_bandit(kuairec_chosen,\n",
    "                                                       sampled_videos,\n",
    "                                                       eb_priors,\n",
    "                                                       ts_action,\n",
    "                                                       timesteps=timesteps,\n",
    "                                                       num_sims=num_sims)"
   ]
  },
  {
   "cell_type": "code",
   "execution_count": null,
   "id": "229b6b13",
   "metadata": {},
   "outputs": [],
   "source": []
  },
  {
   "cell_type": "markdown",
   "id": "80a5ef16",
   "metadata": {},
   "source": [
    "## Step 5: Plot and analyze the data"
   ]
  },
  {
   "cell_type": "code",
   "execution_count": 151,
   "id": "9d4c77f4",
   "metadata": {},
   "outputs": [],
   "source": [
    "uninformed_means = uninformed_prior_data[:,:,0]/(uninformed_prior_data[:,:,0]+uninformed_prior_data[:,:,1])"
   ]
  },
  {
   "cell_type": "code",
   "execution_count": 156,
   "id": "0e77d437",
   "metadata": {},
   "outputs": [],
   "source": [
    "eb_means = eb_prior_data[:,:,0]/(eb_prior_data[:,:,0] + eb_prior_data[:,:,1])"
   ]
  },
  {
   "cell_type": "code",
   "execution_count": 160,
   "id": "84a2a982",
   "metadata": {},
   "outputs": [
    {
     "data": {
      "text/plain": [
       "Text(0.5, 1.0, 'estimated quality, uninformed prior')"
      ]
     },
     "execution_count": 160,
     "metadata": {},
     "output_type": "execute_result"
    },
    {
     "data": {
      "image/png": "[encoded data removed]",
      "text/plain": [
       "<Figure size 432x288 with 1 Axes>"
      ]
     },
     "metadata": {
      "needs_background": "light"
     },
     "output_type": "display_data"
    }
   ],
   "source": [
    "sns.lineplot(uninformed_means).set_title('estimated quality, uninformed prior')"
   ]
  },
  {
   "cell_type": "code",
   "execution_count": 161,
   "id": "99ddff48",
   "metadata": {},
   "outputs": [
    {
     "data": {
      "text/plain": [
       "Text(0.5, 1.0, 'estimated quality, eb prior')"
      ]
     },
     "execution_count": 161,
     "metadata": {},
     "output_type": "execute_result"
    },
    {
     "data": {
      "image/png": "[encoded data removed]",
      "text/plain": [
       "<Figure size 432x288 with 1 Axes>"
      ]
     },
     "metadata": {
      "needs_background": "light"
     },
     "output_type": "display_data"
    }
   ],
   "source": [
    "sns.lineplot(eb_means).set_title('estimated quality, eb prior')"
   ]
  },
  {
   "cell_type": "code",
   "execution_count": null,
   "id": "520a25f2",
   "metadata": {},
   "outputs": [],
   "source": []
  }
 ],
 "metadata": {
  "kernelspec": {
   "display_name": "Python 3 (ipykernel)",
   "language": "python",
   "name": "python3"
  },
  "language_info": {
   "codemirror_mode": {
    "name": "ipython",
    "version": 3
   },
   "file_extension": ".py",
   "mimetype": "text/x-python",
   "name": "python",
   "nbconvert_exporter": "python",
   "pygments_lexer": "ipython3",
   "version": "3.9.7"
  }
 },
 "nbformat": 4,
 "nbformat_minor": 5
}
