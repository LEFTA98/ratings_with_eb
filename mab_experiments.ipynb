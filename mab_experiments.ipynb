{
 "cells": [
  {
   "cell_type": "markdown",
   "id": "d51d8ceb",
   "metadata": {},
   "source": [
    "## Step 0: Imports"
   ]
  },
  {
   "cell_type": "code",
   "execution_count": 1,
   "id": "2a5dd09f",
   "metadata": {},
   "outputs": [],
   "source": [
    "import numpy as np\n",
    "import pandas as pd\n",
    "import scipy\n",
    "import random\n",
    "import matplotlib.pyplot as plt\n",
    "import seaborn as sns\n",
    "import copy\n",
    "\n",
    "from sklearn.model_selection import train_test_split\n",
    "from scipy.stats import beta"
   ]
  },
  {
   "cell_type": "markdown",
   "id": "b4d16136",
   "metadata": {},
   "source": [
    "## Step 1: Transform and split the data"
   ]
  },
  {
   "cell_type": "code",
   "execution_count": 2,
   "id": "8a67156d",
   "metadata": {},
   "outputs": [],
   "source": [
    "kuairec_df = pd.read_csv('KuaiRec 2.0/data/small_matrix.csv')"
   ]
  },
  {
   "cell_type": "code",
   "execution_count": 3,
   "id": "c7eae763",
   "metadata": {},
   "outputs": [],
   "source": [
    "kuairec_df['liked'] = kuairec_df['watch_ratio'] > 1.95\n",
    "kuairec_df['liked'] = kuairec_df['liked'].astype(int)"
   ]
  },
  {
   "cell_type": "code",
   "execution_count": 4,
   "id": "69d1c4fc",
   "metadata": {},
   "outputs": [],
   "source": [
    "video_df = kuairec_df.groupby(['video_id']).mean()['liked']"
   ]
  },
  {
   "cell_type": "code",
   "execution_count": 5,
   "id": "9f339466",
   "metadata": {},
   "outputs": [],
   "source": [
    "train_videos, test_videos = train_test_split(video_df, test_size = 0.4, random_state=1729)"
   ]
  },
  {
   "cell_type": "code",
   "execution_count": 6,
   "id": "4b990383",
   "metadata": {},
   "outputs": [],
   "source": [
    "# look up zero-inflated fits for beta, we're throwing out a small fraction of 0-like videos\n",
    "prior_a, prior_b, loc, scale = beta.fit([i for i in train_videos.values if i != 0], floc=0, fscale=1)"
   ]
  },
  {
   "cell_type": "code",
   "execution_count": 7,
   "id": "9d70aa29-e385-427c-a013-29808bf30b14",
   "metadata": {},
   "outputs": [
    {
     "name": "stdout",
     "output_type": "stream",
     "text": [
      "0.9492941782464519 16.534909180069906\n"
     ]
    }
   ],
   "source": [
    "print(prior_a, prior_b)"
   ]
  },
  {
   "cell_type": "code",
   "execution_count": 8,
   "id": "a0930237",
   "metadata": {},
   "outputs": [],
   "source": [
    "r = beta.rvs(prior_a, prior_b, size=5000)"
   ]
  },
  {
   "cell_type": "code",
   "execution_count": 9,
   "id": "fac8b1b5",
   "metadata": {},
   "outputs": [
    {
     "data": {
      "text/plain": [
       "Text(0.5, 1.0, 'density plot of eb beta prior')"
      ]
     },
     "execution_count": 9,
     "metadata": {},
     "output_type": "execute_result"
    },
    {
     "data": {
      "image/png": "[encoded data removed]",
      "text/plain": [
       "<Figure size 432x288 with 1 Axes>"
      ]
     },
     "metadata": {
      "needs_background": "light"
     },
     "output_type": "display_data"
    }
   ],
   "source": [
    "sns.kdeplot(r).set_title('density plot of eb beta prior')"
   ]
  },
  {
   "cell_type": "code",
   "execution_count": 10,
   "id": "a3ee1cab",
   "metadata": {},
   "outputs": [
    {
     "data": {
      "text/plain": [
       "video_id\n",
       "103      0.025532\n",
       "109      0.053154\n",
       "120      0.102055\n",
       "122      0.031228\n",
       "128      0.023388\n",
       "           ...   \n",
       "10506    0.080351\n",
       "10519    0.177098\n",
       "10552    0.006383\n",
       "10589    0.059914\n",
       "10595    0.107988\n",
       "Name: liked, Length: 3327, dtype: float64"
      ]
     },
     "execution_count": 10,
     "metadata": {},
     "output_type": "execute_result"
    }
   ],
   "source": [
    "video_df"
   ]
  },
  {
   "cell_type": "markdown",
   "id": "3b6e734b",
   "metadata": {},
   "source": [
    "## Step 2: Merge the datasets and select from test set different products"
   ]
  },
  {
   "cell_type": "code",
   "execution_count": 11,
   "id": "371e2ca4",
   "metadata": {},
   "outputs": [],
   "source": [
    "kuairec_test = pd.merge(kuairec_df, test_videos, on='video_id')\n",
    "kuairec_test = kuairec_test.rename(columns={'liked_x': 'liked', 'liked_y': 'like_ratio'})"
   ]
  },
  {
   "cell_type": "code",
   "execution_count": 12,
   "id": "65537dd1",
   "metadata": {},
   "outputs": [
    {
     "data": {
      "text/html": [
       "<div>\n",
       "<style scoped>\n",
       "    .dataframe tbody tr th:only-of-type {\n",
       "        vertical-align: middle;\n",
       "    }\n",
       "\n",
       "    .dataframe tbody tr th {\n",
       "        vertical-align: top;\n",
       "    }\n",
       "\n",
       "    .dataframe thead th {\n",
       "        text-align: right;\n",
       "    }\n",
       "</style>\n",
       "<table border=\"1\" class=\"dataframe\">\n",
       "  <thead>\n",
       "    <tr style=\"text-align: right;\">\n",
       "      <th></th>\n",
       "      <th>user_id</th>\n",
       "      <th>video_id</th>\n",
       "      <th>play_duration</th>\n",
       "      <th>video_duration</th>\n",
       "      <th>time</th>\n",
       "      <th>date</th>\n",
       "      <th>timestamp</th>\n",
       "      <th>watch_ratio</th>\n",
       "      <th>liked</th>\n",
       "      <th>like_ratio</th>\n",
       "    </tr>\n",
       "  </thead>\n",
       "  <tbody>\n",
       "    <tr>\n",
       "      <th>0</th>\n",
       "      <td>14</td>\n",
       "      <td>183</td>\n",
       "      <td>11635</td>\n",
       "      <td>6100</td>\n",
       "      <td>2020-07-05 05:28:00.057</td>\n",
       "      <td>20200705.0</td>\n",
       "      <td>1.593898e+09</td>\n",
       "      <td>1.907377</td>\n",
       "      <td>0</td>\n",
       "      <td>0.145996</td>\n",
       "    </tr>\n",
       "    <tr>\n",
       "      <th>1</th>\n",
       "      <td>19</td>\n",
       "      <td>183</td>\n",
       "      <td>8033</td>\n",
       "      <td>6100</td>\n",
       "      <td>2020-07-25 09:51:33.664</td>\n",
       "      <td>20200725.0</td>\n",
       "      <td>1.595642e+09</td>\n",
       "      <td>1.316885</td>\n",
       "      <td>0</td>\n",
       "      <td>0.145996</td>\n",
       "    </tr>\n",
       "    <tr>\n",
       "      <th>2</th>\n",
       "      <td>21</td>\n",
       "      <td>183</td>\n",
       "      <td>15770</td>\n",
       "      <td>6100</td>\n",
       "      <td>2020-07-08 07:00:20.865</td>\n",
       "      <td>20200708.0</td>\n",
       "      <td>1.594163e+09</td>\n",
       "      <td>2.585246</td>\n",
       "      <td>1</td>\n",
       "      <td>0.145996</td>\n",
       "    </tr>\n",
       "    <tr>\n",
       "      <th>3</th>\n",
       "      <td>23</td>\n",
       "      <td>183</td>\n",
       "      <td>20786</td>\n",
       "      <td>6100</td>\n",
       "      <td>2020-07-05 07:50:01.81</td>\n",
       "      <td>20200705.0</td>\n",
       "      <td>1.593907e+09</td>\n",
       "      <td>3.407541</td>\n",
       "      <td>1</td>\n",
       "      <td>0.145996</td>\n",
       "    </tr>\n",
       "    <tr>\n",
       "      <th>4</th>\n",
       "      <td>24</td>\n",
       "      <td>183</td>\n",
       "      <td>4737</td>\n",
       "      <td>6100</td>\n",
       "      <td>2020-07-05 03:47:59.561</td>\n",
       "      <td>20200705.0</td>\n",
       "      <td>1.593892e+09</td>\n",
       "      <td>0.776557</td>\n",
       "      <td>0</td>\n",
       "      <td>0.145996</td>\n",
       "    </tr>\n",
       "  </tbody>\n",
       "</table>\n",
       "</div>"
      ],
      "text/plain": [
       "   user_id  video_id  play_duration  video_duration                     time  \\\n",
       "0       14       183          11635            6100  2020-07-05 05:28:00.057   \n",
       "1       19       183           8033            6100  2020-07-25 09:51:33.664   \n",
       "2       21       183          15770            6100  2020-07-08 07:00:20.865   \n",
       "3       23       183          20786            6100   2020-07-05 07:50:01.81   \n",
       "4       24       183           4737            6100  2020-07-05 03:47:59.561   \n",
       "\n",
       "         date     timestamp  watch_ratio  liked  like_ratio  \n",
       "0  20200705.0  1.593898e+09     1.907377      0    0.145996  \n",
       "1  20200725.0  1.595642e+09     1.316885      0    0.145996  \n",
       "2  20200708.0  1.594163e+09     2.585246      1    0.145996  \n",
       "3  20200705.0  1.593907e+09     3.407541      1    0.145996  \n",
       "4  20200705.0  1.593892e+09     0.776557      0    0.145996  "
      ]
     },
     "execution_count": 12,
     "metadata": {},
     "output_type": "execute_result"
    }
   ],
   "source": [
    "kuairec_test.head()"
   ]
  },
  {
   "cell_type": "code",
   "execution_count": 13,
   "id": "f4e137a9",
   "metadata": {},
   "outputs": [
    {
     "data": {
      "text/plain": [
       "Text(0.5, 1.0, 'histogram of like ratios')"
      ]
     },
     "execution_count": 13,
     "metadata": {},
     "output_type": "execute_result"
    },
    {
     "data": {
      "image/png": "[encoded data removed]",
      "text/plain": [
       "<Figure size 432x288 with 1 Axes>"
      ]
     },
     "metadata": {
      "needs_background": "light"
     },
     "output_type": "display_data"
    }
   ],
   "source": [
    "sns.histplot(test_videos.values).set_title('histogram of like ratios')"
   ]
  },
  {
   "cell_type": "code",
   "execution_count": 14,
   "id": "ea46651f",
   "metadata": {},
   "outputs": [],
   "source": [
    "num_samples = 100"
   ]
  },
  {
   "cell_type": "code",
   "execution_count": 15,
   "id": "018b7a76",
   "metadata": {},
   "outputs": [],
   "source": [
    "sampled_videos = (list(test_videos.sample(num_samples, random_state=1729).keys()))"
   ]
  },
  {
   "cell_type": "code",
   "execution_count": 16,
   "id": "d0a5aaca",
   "metadata": {},
   "outputs": [],
   "source": [
    "kuairec_chosen = kuairec_test[kuairec_test['video_id'].isin(sampled_videos)]"
   ]
  },
  {
   "cell_type": "code",
   "execution_count": 17,
   "id": "62aaf73e",
   "metadata": {},
   "outputs": [
    {
     "data": {
      "text/plain": [
       "video_id\n",
       "9136    0.000000\n",
       "7566    0.000000\n",
       "883     0.000000\n",
       "8696    0.000000\n",
       "4664    0.000709\n",
       "          ...   \n",
       "1205    0.122165\n",
       "858     0.136782\n",
       "2311    0.138396\n",
       "2687    0.155209\n",
       "7076    0.246634\n",
       "Name: liked, Length: 100, dtype: float64"
      ]
     },
     "execution_count": 17,
     "metadata": {},
     "output_type": "execute_result"
    }
   ],
   "source": [
    "video_df[sampled_videos].sort_values()"
   ]
  },
  {
   "cell_type": "code",
   "execution_count": 18,
   "id": "c8f1c27e",
   "metadata": {},
   "outputs": [
    {
     "data": {
      "text/plain": [
       "[7076, 2687, 2678, 627, 1377, 7257]"
      ]
     },
     "execution_count": 18,
     "metadata": {},
     "output_type": "execute_result"
    }
   ],
   "source": [
    "videos_of_interest = video_df[sampled_videos].sort_values()\n",
    "videos_of_interest = list(videos_of_interest.iloc[[-1, -2, num_samples//5, 2*num_samples//5, 3*num_samples//5, 4*num_samples//5]].keys())\n",
    "videos_of_interest"
   ]
  },
  {
   "cell_type": "code",
   "execution_count": 19,
   "id": "ee48692b",
   "metadata": {},
   "outputs": [],
   "source": [
    "indices_of_interest = [sampled_videos.index(item) for item in videos_of_interest]"
   ]
  },
  {
   "cell_type": "markdown",
   "id": "1984a14d",
   "metadata": {},
   "source": [
    "## Step 3: Set up the bandit environment"
   ]
  },
  {
   "cell_type": "code",
   "execution_count": 20,
   "id": "d781ddcb",
   "metadata": {},
   "outputs": [],
   "source": [
    "# set up experiment in a way where we can later interpolate between uninformed prior and eb\n",
    "uninformed_priors = np.ones(len(sampled_videos)*2).reshape(len(sampled_videos),2)\n",
    "eb_priors = np.array([[prior_a]*len(sampled_videos),[prior_b]*len(sampled_videos)]).T\n",
    "# eb_priors = np.ones(len(sampled_videos)*2).reshape(len(sampled_videos),2) + np.array([0,1])"
   ]
  },
  {
   "cell_type": "code",
   "execution_count": 21,
   "id": "d4dc769e",
   "metadata": {},
   "outputs": [],
   "source": [
    "def random_argmax(alist):\n",
    "  maxval = max(alist)\n",
    "  argmax = [idx for idx, val in enumerate(alist) if val == maxval]\n",
    "  return np.random.choice(argmax)\n",
    "\n",
    "def ts_action(actions, num_success, num_failure):\n",
    "  p_hat = [np.random.beta(num_success[a],num_failure[a]) for a in actions]\n",
    "  a = random_argmax(p_hat)\n",
    "  return a\n",
    "\n",
    "def greedy_action(actions, num_success, num_failure):\n",
    "  p_hat = [(num_success[a] + 1) / (num_success[a] + num_failure[a] + 2) for a in actions]\n",
    "  a = random_argmax(p_hat)\n",
    "  return a\n",
    "\n",
    "def epsilon_greedy_action(actions, num_success, num_failure):\n",
    "  if np.random.binomial(1, 0.05):\n",
    "    a = np.random.choice(actions)\n",
    "  else:\n",
    "    a = greedy_action(actions, num_success, num_failure)\n",
    "  return a\n",
    "\n",
    "def sample_chosen_df(videos, chosen_df, action_index):\n",
    "    vid = videos[action_index]\n",
    "    seen_like = chosen_df[chosen_df['video_id']==vid].sample(1).iloc[0]['liked']\n",
    "    return seen_like"
   ]
  },
  {
   "cell_type": "markdown",
   "id": "fec223b8-789a-41e6-91b1-3eb781800b4d",
   "metadata": {},
   "source": [
    "#### Default multi-armed bandit algorithm"
   ]
  },
  {
   "cell_type": "code",
   "execution_count": 22,
   "id": "242b102b",
   "metadata": {},
   "outputs": [],
   "source": [
    "def run_multiarmed_bandit(chosen_df, \n",
    "                          videos, \n",
    "                          priors, \n",
    "                          sampling_action, \n",
    "                          timesteps, \n",
    "                          num_sims):\n",
    "\n",
    "    agg_priors_over_time = []\n",
    "    rewards_over_time = []\n",
    "    plays = []\n",
    "    \n",
    "    for n in range(num_sims):\n",
    "        if (n+1) % 10 == 0:\n",
    "            print(f'sim {n+1}/{num_sims}')\n",
    "            \n",
    "        instance_priors_over_time = [priors]\n",
    "        instance_rewards_over_time = [np.zeros(len(videos))]\n",
    "        instance_plays = np.zeros(len(videos))\n",
    "        \n",
    "        for t in range(timesteps):\n",
    "            newest_prior = instance_priors_over_time[-1].copy()\n",
    "            newest_rewards = instance_rewards_over_time[-1].copy()\n",
    "            successes, failures = newest_prior.T[0,:], newest_prior.T[1,:]\n",
    "            actions = range(len(videos))\n",
    "            \n",
    "            a = sampling_action(actions, successes, failures)\n",
    "            \n",
    "            instance_plays[a] += 1\n",
    "            \n",
    "            like = sample_chosen_df(videos, chosen_df, a)\n",
    "            \n",
    "            # update prior\n",
    "            newest_prior[a,0] += like\n",
    "            newest_prior[a,1] += 1 - like\n",
    "            instance_priors_over_time.append(newest_prior)\n",
    "            \n",
    "            newest_rewards[a] += like\n",
    "            instance_rewards_over_time.append(newest_rewards)\n",
    "            \n",
    "        instance_priors_over_time = np.stack(instance_priors_over_time)\n",
    "        instance_rewards_over_time = np.stack(instance_rewards_over_time)\n",
    "        \n",
    "        agg_priors_over_time.append(instance_priors_over_time)\n",
    "        rewards_over_time.append(instance_rewards_over_time)\n",
    "        plays.append(instance_plays)\n",
    "        \n",
    "    agg_priors_over_time = np.stack(agg_priors_over_time)\n",
    "    rewards_over_time = np.stack(rewards_over_time)\n",
    "    plays = np.stack(plays)\n",
    "            \n",
    "    return agg_priors_over_time, rewards_over_time, plays\n",
    "            \n",
    "        "
   ]
  },
  {
   "cell_type": "markdown",
   "id": "8a1c9268-4d86-483d-be16-e1cbbfb99be3",
   "metadata": {},
   "source": [
    "#### Multi-armed bandit with replenishment"
   ]
  },
  {
   "cell_type": "code",
   "execution_count": 23,
   "id": "41d8ee13-3604-4da9-ba53-a4bd09bb904a",
   "metadata": {},
   "outputs": [],
   "source": [
    "class ProductHelper:\n",
    "    \"\"\"Class for helping keep track of all the products we have.\"\"\"\n",
    "    \n",
    "    def __init__(self, universe, starting_market, mkt_ids, priors):\n",
    "        self.universe = universe\n",
    "        self.mkt_ids = mkt_ids\n",
    "        self.priors = priors\n",
    "        self.market = [np.array([copy.deepcopy(self.priors)[k]]) for k in starting_market]\n",
    "        \n",
    "    def pull_arm(self, action, like):\n",
    "        arr = self.market[action]\n",
    "        latest_action = copy.deepcopy(arr[-1])\n",
    "        latest_action += np.array([like, 1-like])\n",
    "        self.market[action] = np.append(arr, [latest_action], axis=0)\n",
    "        \n",
    "    def replace_item(self, old_id, new_id):\n",
    "        old_idx = self.mkt_ids.index(old_id)\n",
    "        self.universe[old_id].append(copy.deepcopy(self.market[old_idx]))\n",
    "        self.mkt_ids[old_idx] = new_id\n",
    "        self.market[old_idx] = np.array([copy.deepcopy(self.priors[new_id])])"
   ]
  },
  {
   "cell_type": "code",
   "execution_count": 24,
   "id": "2f4fbc50-974a-470b-b024-3007a44a9ae9",
   "metadata": {},
   "outputs": [],
   "source": [
    "def run_multiarmed_bandit_replenishment(chosen_df,\n",
    "                                        videos,\n",
    "                                        priors,\n",
    "                                        sampling_action,\n",
    "                                        timesteps,\n",
    "                                        rho,\n",
    "                                        mkt_size,\n",
    "                                        num_users=1):\n",
    "    product_data = dict(zip(videos, [[] for _ in range(len(videos))]))\n",
    "    priors_dict = dict(zip(videos, [priors.copy()[i,:] for i in range(priors.shape[0])]))\n",
    "            \n",
    "    curr_vids = np.array(list(np.random.choice(videos, mkt_size)))\n",
    "    curr_vids_indices = np.array([videos.index(v) for v in curr_vids])\n",
    "    remaining_vids = set(videos).difference(set(curr_vids))\n",
    "    curr_chosen_df = chosen_df[chosen_df['video_id'].isin(curr_vids)]\n",
    "\n",
    "    helper = ProductHelper(product_data, curr_vids, list(curr_vids), priors_dict)\n",
    "\n",
    "    for t in range(timesteps):\n",
    "        if (t+1) % (timesteps//10) == 0:\n",
    "            print(f'{t+1}/{timesteps}')\n",
    "            \n",
    "        latest_sims = np.array([item[-1] for item in helper.market])\n",
    "        successes, failures = latest_sims[:,0], latest_sims[:,1]\n",
    "        actions = range(mkt_size)\n",
    "        for m in range(num_users):\n",
    "            a = sampling_action(actions, successes, failures)\n",
    "            like = sample_chosen_df(videos, chosen_df, curr_vids_indices[a])\n",
    "\n",
    "            # update prior\n",
    "            helper.pull_arm(a, like)\n",
    "\n",
    "        # replenish the indices\n",
    "        flips = np.random.binomial(1, rho, curr_vids_indices.shape[0])\n",
    "        draws = np.random.choice(list(remaining_vids), mkt_size)\n",
    "\n",
    "        new_draws_indices = np.array([videos.index(v) for v in draws])\n",
    "        replenishments = flips * draws\n",
    "        replaced = flips * curr_vids\n",
    "\n",
    "        remaining_vids = remaining_vids.union(set(replaced[replaced != 0].flatten())\n",
    "                                           ).difference(set(replenishments[replenishments != 0].flatten()))\n",
    "        curr_vids = (1-flips) * curr_vids + flips * draws\n",
    "        curr_vids_indices = (1-flips) * curr_vids_indices + flips * new_draws_indices\n",
    "        curr_chosen_df = chosen_df[chosen_df['video_id'].isin(curr_vids)]\n",
    "\n",
    "        swapped_pairs = zip(list(replaced[replaced != 0].flatten()), list(replenishments[replenishments != 0].flatten()))\n",
    "        for old,new in swapped_pairs:\n",
    "            helper.replace_item(old, new)\n",
    "            \n",
    "    for prod in helper.mkt_ids:\n",
    "        mkt_idx = helper.mkt_ids.index(prod)\n",
    "        helper.universe[prod].append(helper.market[mkt_idx])\n",
    "            \n",
    "    return helper.universe"
   ]
  },
  {
   "cell_type": "markdown",
   "id": "7e7e262c",
   "metadata": {},
   "source": [
    "## Step 4: Run the simulations and save data"
   ]
  },
  {
   "cell_type": "code",
   "execution_count": 25,
   "id": "06304aac",
   "metadata": {},
   "outputs": [],
   "source": [
    "timesteps = 500000"
   ]
  },
  {
   "cell_type": "code",
   "execution_count": 26,
   "id": "1c4e8772-2702-4f3d-80de-d78a0b5ea0e0",
   "metadata": {
    "tags": []
   },
   "outputs": [
    {
     "name": "stdout",
     "output_type": "stream",
     "text": [
      "50000/500000\n",
      "100000/500000\n",
      "150000/500000\n",
      "200000/500000\n",
      "250000/500000\n",
      "300000/500000\n",
      "350000/500000\n",
      "400000/500000\n",
      "450000/500000\n",
      "500000/500000\n"
     ]
    }
   ],
   "source": [
    "uninformed_data = run_multiarmed_bandit_replenishment(kuairec_chosen,\n",
    "                                                      sampled_videos,\n",
    "                                                      uninformed_priors,\n",
    "                                                      ts_action,\n",
    "                                                      timesteps=timesteps,\n",
    "                                                      rho=0.01,\n",
    "                                                      mkt_size=10)"
   ]
  },
  {
   "cell_type": "code",
   "execution_count": 27,
   "id": "cbec452f-e30d-43b1-9fc2-c51fe3f79e7a",
   "metadata": {},
   "outputs": [
    {
     "name": "stdout",
     "output_type": "stream",
     "text": [
      "50000/500000\n",
      "100000/500000\n",
      "150000/500000\n",
      "200000/500000\n",
      "250000/500000\n",
      "300000/500000\n",
      "350000/500000\n",
      "400000/500000\n",
      "450000/500000\n",
      "500000/500000\n"
     ]
    }
   ],
   "source": [
    "eb_data = run_multiarmed_bandit_replenishment(kuairec_chosen,\n",
    "                                              sampled_videos,\n",
    "                                              eb_priors,\n",
    "                                              ts_action,\n",
    "                                              timesteps=timesteps,\n",
    "                                              rho=0.01,\n",
    "                                              mkt_size=10)"
   ]
  },
  {
   "cell_type": "markdown",
   "id": "ae2c0031",
   "metadata": {},
   "source": [
    "## Step 5: Plot and analyze the data from replenishment model"
   ]
  },
  {
   "cell_type": "code",
   "execution_count": 205,
   "id": "77411f98-ca58-4940-898a-06ed55153a0f",
   "metadata": {},
   "outputs": [],
   "source": [
    "times_of_interest = [0,3,5,10,50,100]"
   ]
  },
  {
   "cell_type": "code",
   "execution_count": 206,
   "id": "a641862d-7e24-4eb3-b6c2-bfb7fe7d966d",
   "metadata": {},
   "outputs": [],
   "source": [
    "def mean_centered_credible_int(arr):\n",
    "    a,b = arr[0], arr[1]\n",
    "    mean = a/(a+b)\n",
    "    mean_cdf = beta.cdf(mean,a,b)\n",
    "    if mean_cdf > 0.525: #we'll have to have a longer left tail\n",
    "        left_remainder = 0.95 - (1 - mean_cdf)\n",
    "        return (beta.ppf(left_remainder,a,b),1)\n",
    "    elif mean_cdf < 0.475: #we'll have to have a longer right tail\n",
    "        right_remainder = 0.95 - mean_cdf\n",
    "        return (0, beta.ppf(right_remainder,a,b))\n",
    "    else:\n",
    "        return (beta.ppf(mean_cdf-0.475,a,b), beta.ppf(mean_cdf+0.475,a,b))"
   ]
  },
  {
   "cell_type": "code",
   "execution_count": 207,
   "id": "5f92b8c2-f6bf-47ff-aa3c-dd3f8f4a1d78",
   "metadata": {},
   "outputs": [],
   "source": [
    "def credible_int(arr):\n",
    "    a,b = arr[0], arr[1]\n",
    "    return beta.interval(0.95,a,b)"
   ]
  },
  {
   "cell_type": "code",
   "execution_count": 208,
   "id": "3d6d4804-444b-4945-a736-c2d25c8450eb",
   "metadata": {},
   "outputs": [],
   "source": [
    "def mean_confidence_interval(data, confidence=0.95):\n",
    "    a = 1.0 * np.array(data)\n",
    "    n = len(a)\n",
    "    m, se = np.mean(a), scipy.stats.sem(a)\n",
    "    h = se * scipy.stats.t.ppf((1 + confidence) / 2., n-1)\n",
    "    return m-h,m+h"
   ]
  },
  {
   "cell_type": "code",
   "execution_count": 209,
   "id": "3def8676-ffd5-429b-8b23-3736b19441fd",
   "metadata": {},
   "outputs": [],
   "source": [
    "conf_interval_method = 'credible interval'"
   ]
  },
  {
   "cell_type": "code",
   "execution_count": 210,
   "id": "52aa1bf5-0eb3-49e7-a430-3c7722fe0483",
   "metadata": {},
   "outputs": [],
   "source": [
    "# todo clean up this section of the code\n",
    "uninf_dict = dict()\n",
    "eb_dict = dict()\n",
    "uninf_conf_intervals = dict()\n",
    "eb_conf_intervals = dict()\n",
    "\n",
    "for prod in videos_of_interest:\n",
    "    for time in times_of_interest:\n",
    "        value = [uninformed_data[prod][i][time] for i in range(len(uninformed_data[prod])) \n",
    "                                                                   if time < uninformed_data[prod][i].shape[0]]\n",
    "        value = np.array(value)\n",
    "        uninf_dict[(prod, time)] = value\n",
    "        \n",
    "        if conf_interval_method == 'credible interval':\n",
    "            if value.size > 0:\n",
    "                conf_intervals = np.apply_along_axis(credible_int, 1, value)\n",
    "                uninf_conf_intervals[(prod, time)] = np.mean(conf_intervals,axis=0)\n",
    "            else:\n",
    "                uninf_conf_intervals[(prod,time)] = None\n",
    "        else:\n",
    "            if value.size > 0:\n",
    "                conf_intervals = value[:,0]/(value[:,0]+value[:,1])\n",
    "                uninf_conf_intervals[(prod, time)] = mean_confidence_interval(conf_intervals)\n",
    "            else:\n",
    "                uninf_conf_intervals[(prod,time)] = None\n",
    "            \n",
    "        value = [eb_data[prod][i][time] for i in range(len(eb_data[prod])) \n",
    "                                        if time < eb_data[prod][i].shape[0]]\n",
    "        value = np.array(value)\n",
    "        eb_dict[(prod, time)] = np.array(value)\n",
    "        \n",
    "        if conf_interval_method == 'credible interval':\n",
    "            if value.size > 0:\n",
    "                conf_intervals = np.apply_along_axis(credible_int, 1, value)\n",
    "                eb_conf_intervals[(prod, time)] = np.mean(conf_intervals,axis=0)\n",
    "            else:\n",
    "                eb_conf_intervals[(prod,time)] = None\n",
    "        else:\n",
    "            if value.size > 0:\n",
    "                conf_intervals = value[:,0]/(value[:,0]+value[:,1])\n",
    "                eb_conf_intervals[(prod, time)] = mean_confidence_interval(conf_intervals)\n",
    "            else:\n",
    "                eb_conf_intervals[(prod,time)] = None"
   ]
  },
  {
   "cell_type": "code",
   "execution_count": 211,
   "id": "9b8984c6-40a6-46b6-a3bd-9aab3954a22d",
   "metadata": {},
   "outputs": [],
   "source": [
    "def plot_est_quality(data, true_quals, conf_ints, products, time, ax=None, title=None):\n",
    "    dep, errbar, prods_to_plot, tq_to_plot = [], [], [], []\n",
    "\n",
    "    i=0\n",
    "    for prod in products:\n",
    "        if type(conf_ints[(prod,time)])==np.ndarray or conf_ints[(prod,time)]:\n",
    "            mean = data[(prod, time)][:,0]/(data[(prod, time)][:,0]+data[(prod, time)][:,1])\n",
    "            mean = np.mean(mean)\n",
    "            dep.append(mean)\n",
    "            errbar.append([np.abs(mean-conf_ints[(prod,time)][0]), np.abs(mean-conf_ints[(prod,time)][1])])\n",
    "            prods_to_plot.append(str(prod))\n",
    "            tq_to_plot.append(true_quals[i])\n",
    "        i += 1\n",
    "        \n",
    "    if ax:\n",
    "        plt.sca(ax)\n",
    "    \n",
    "    plt.ylim(0, 1)\n",
    "    plt.scatter(x=prods_to_plot, y=np.array(dep), label='est quality')\n",
    "    plt.scatter(x=prods_to_plot, y=tq_to_plot, label='true quality')\n",
    "    print(errbar)\n",
    "    plt.errorbar(x=prods_to_plot, y=np.array(dep), yerr=np.array(errbar).T, fmt='o')      \n",
    "    plt.legend()\n",
    "    \n",
    "    if title:\n",
    "        plt.title(title)\n"
   ]
  },
  {
   "cell_type": "code",
   "execution_count": 212,
   "id": "a94cfd43-13b6-4600-8879-6547e1f652a5",
   "metadata": {},
   "outputs": [],
   "source": [
    "true_quality = list(video_df[videos_of_interest].values.round(4))"
   ]
  },
  {
   "cell_type": "code",
   "execution_count": 213,
   "id": "cf4c4e8b-1a94-44ba-bd57-c75570f0c298",
   "metadata": {},
   "outputs": [
    {
     "name": "stdout",
     "output_type": "stream",
     "text": [
      "[[0.47499999999999976, 0.47500000000000886], [0.47499999999999976, 0.4750000000000091], [0.47499999999999976, 0.47500000000000897], [0.47499999999999976, 0.4750000000000083], [0.47499999999999976, 0.47500000000000897], [0.47499999999999976, 0.4750000000000094]]\n",
      "[[0.25425021271908455, 0.3959626735761842], [0.23642498771469247, 0.3996253349226296], [0.20444958285985979, 0.40247731373198564], [0.2074284797558769, 0.4023816140191179], [0.20395548749904457, 0.402624724442079], [0.21653240055380477, 0.40278743628835423]]\n",
      "[[0.21326005116648988, 0.3310832872497021], [0.19467909545773995, 0.33137310044082224], [0.15113169794721293, 0.32082178487767915], [0.15775639871322272, 0.3231949599452002], [0.15588690873900277, 0.32242878171863854], [0.1668038886698807, 0.32616392454956356]]\n",
      "[[0.17424650654150192, 0.25044523242680466], [0.15629986512159905, 0.24609718551880783], [0.10155757097969235, 0.21539281951958475], [0.11170582083914783, 0.22212810008111467], [0.11152653960309306, 0.22201528457116165], [0.12365580776675215, 0.2291486953069322]]\n",
      "[[0.1123757074364472, 0.12769218790901393], [0.09736231654437724, 0.1186370160494725], [0.07760357115201577, 0.1040606626486899], [0.08360532038884505, 0.10870538945839214], [0.07096447352830057, 0.09876036716106551]]\n",
      "[[0.08165481584021314, 0.08990594010699643]]\n"
     ]
    },
    {
     "data": {
      "image/png": "[encoded data removed]",
      "text/plain": [
       "<Figure size 864x864 with 6 Axes>"
      ]
     },
     "metadata": {
      "needs_background": "light"
     },
     "output_type": "display_data"
    }
   ],
   "source": [
    "f, axes = plt.subplots(3,2)\n",
    "f.set_size_inches(12,12)\n",
    "ax_path = [axes[0,0], axes[0,1], axes[1,0], axes[1,1], axes[2,0], axes[2,1]]\n",
    "for i in range(len(ax_path)):\n",
    "    t = times_of_interest[i]\n",
    "    plot_est_quality(uninf_dict, true_quality, uninf_conf_intervals, videos_of_interest, t, ax=ax_path[i],title=f'{t} pulls, uninf')\n",
    "plt.show()"
   ]
  },
  {
   "cell_type": "code",
   "execution_count": 214,
   "id": "baa6280f-0004-4513-aa03-f74a079629a4",
   "metadata": {},
   "outputs": [
    {
     "name": "stdout",
     "output_type": "stream",
     "text": [
      "[[0.05306568398870641, 0.14070705184615775], [0.053065683988706404, 0.1407070518461578], [0.05306568398870641, 0.14070705184615767], [0.05306568398870641, 0.14070705184615773], [0.05306568398870642, 0.14070705184615773], [0.05306568398870641, 0.1407070518461578]]\n",
      "[[0.06117672241275214, 0.13531460883211852], [0.05648440671106633, 0.131223497508217], [0.048498202146072644, 0.12421141552280872], [0.04927317866658569, 0.12489834954388311], [0.04949952586198505, 0.12511506872168449], [0.051609767806599816, 0.12699059730499557]]\n",
      "[[0.0672241034443977, 0.1337811597759631], [0.058624414883392206, 0.12661020884647667], [0.0453606087613215, 0.11483520682654424], [0.04729937042188097, 0.11664448258911861], [0.048235787150692856, 0.11749339812363414], [0.04983544747975968, 0.11893943548558261]]\n",
      "[[0.08294371303995451, 0.13457896519264237], [0.06622533098828817, 0.12077325166639741], [0.04311305037556175, 0.10042550534044221], [0.04754451511541182, 0.104756670843079], [0.04796134534063884, 0.10504942697228004], [0.053746458944043535, 0.11035289563731016]]\n",
      "[[0.08591924707660459, 0.1023683575608896], [0.06903958767323841, 0.0894605647210219], [0.058803509718013666, 0.08044027388128654], [0.05443636102459703, 0.07683462828631758], [0.059144246720404914, 0.08092270515822717], [0.05857942037555467, 0.08078809021738567]]\n",
      "[[0.07098989894589161, 0.07966159772029593], [0.05855015242433283, 0.06972328643530148], [0.037837612811139856, 0.05167779902677745], [0.049769645700027856, 0.062294667370369664], [0.043056781816347325, 0.056378479764019024]]\n"
     ]
    },
    {
     "data": {
      "image/png": "[encoded data removed]",
      "text/plain": [
       "<Figure size 864x864 with 6 Axes>"
      ]
     },
     "metadata": {
      "needs_background": "light"
     },
     "output_type": "display_data"
    }
   ],
   "source": [
    "f, axes = plt.subplots(3,2)\n",
    "f.set_size_inches(12,12)\n",
    "ax_path = [axes[0,0], axes[0,1], axes[1,0], axes[1,1], axes[2,0], axes[2,1]]\n",
    "for i in range(len(ax_path)):\n",
    "    t = times_of_interest[i]\n",
    "    plot_est_quality(eb_dict, true_quality, eb_conf_intervals, videos_of_interest, t, ax=ax_path[i],title=f'{t} pulls, uninf')\n",
    "plt.show()"
   ]
  },
  {
   "cell_type": "markdown",
   "id": "a528e88b-770b-4f87-997a-d1743fd9fec2",
   "metadata": {},
   "source": [
    "### 5.1 Plot the histogram of plays for each product"
   ]
  },
  {
   "cell_type": "code",
   "execution_count": 166,
   "id": "390544ea-5800-4908-a520-8b66a7c01d6d",
   "metadata": {},
   "outputs": [],
   "source": [
    "uninf_data_counts = [[arr.shape[0] for arr in uninformed_data[key]] for key in videos_of_interest]\n",
    "eb_data_counts = [[arr.shape[0] for arr in eb_data[key]] for key in videos_of_interest]"
   ]
  },
  {
   "cell_type": "code",
   "execution_count": 215,
   "id": "247d01f7-8d5c-4f8e-a867-adba19e5108a",
   "metadata": {},
   "outputs": [
    {
     "data": {
      "image/png": "[encoded data removed]",
      "text/plain": [
       "<Figure size 864x864 with 6 Axes>"
      ]
     },
     "metadata": {
      "needs_background": "light"
     },
     "output_type": "display_data"
    }
   ],
   "source": [
    "f, axes = plt.subplots(3,2)\n",
    "f.set_size_inches(12,12)\n",
    "ax_path = [axes[0,0], axes[0,1], axes[1,0], axes[1,1], axes[2,0], axes[2,1]]\n",
    "for i in range(len(videos_of_interest)):\n",
    "    plt.sca(ax_path[i])\n",
    "    plt.ylim(0, 150)\n",
    "    bins = np.linspace(0, 150, 50)\n",
    "    plt.hist(uninf_data_counts[i],bins,alpha=0.5,label='uninformed')\n",
    "    plt.hist(eb_data_counts[i],bins,alpha=0.5,label='eb')\n",
    "    plt.title(videos_of_interest[i])\n",
    "    plt.legend()\n",
    "    \n",
    "plt.show()"
   ]
  },
  {
   "cell_type": "code",
   "execution_count": null,
   "id": "7c1f547d-35b8-459f-8c9f-5abc2818e042",
   "metadata": {},
   "outputs": [],
   "source": []
  }
 ],
 "metadata": {
  "kernelspec": {
   "display_name": "Python 3 (ipykernel)",
   "language": "python",
   "name": "python3"
  },
  "language_info": {
   "codemirror_mode": {
    "name": "ipython",
    "version": 3
   },
   "file_extension": ".py",
   "mimetype": "text/x-python",
   "name": "python",
   "nbconvert_exporter": "python",
   "pygments_lexer": "ipython3",
   "version": "3.9.7"
  }
 },
 "nbformat": 4,
 "nbformat_minor": 5
}
