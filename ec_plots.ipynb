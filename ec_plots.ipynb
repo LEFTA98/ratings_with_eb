{
 "cells": [
  {
   "cell_type": "code",
   "execution_count": 77,
   "id": "61dc54b0-bcf5-4e8f-b4ff-dbacee5da087",
   "metadata": {},
   "outputs": [],
   "source": [
    "import numpy as np\n",
    "import pandas as pd\n",
    "import scipy\n",
    "import random\n",
    "import matplotlib.pyplot as plt\n",
    "import seaborn as sns\n",
    "import copy\n",
    "import itertools\n",
    "import os\n",
    "\n",
    "\n",
    "import matplotlib.patches as mpatches\n",
    "from sklearn.model_selection import train_test_split\n",
    "from scipy.stats import beta"
   ]
  },
  {
   "cell_type": "markdown",
   "id": "0a6686ae-6bcd-4235-9e82-d06f306ac48a",
   "metadata": {},
   "source": [
    "## Setup: Get EB prior"
   ]
  },
  {
   "cell_type": "code",
   "execution_count": 2,
   "id": "003c3d36-af5a-4c9e-8192-aa64291dad3c",
   "metadata": {},
   "outputs": [],
   "source": [
    "kuairec_df = pd.read_csv('KuaiRec 2.0/data/small_matrix.csv')"
   ]
  },
  {
   "cell_type": "code",
   "execution_count": 3,
   "id": "11ee69c0-0203-4418-8909-6e5a7721cb59",
   "metadata": {},
   "outputs": [],
   "source": [
    "kuairec_df['liked'] = kuairec_df['watch_ratio'] > 0.4\n",
    "kuairec_df['liked'] = kuairec_df['liked'].astype(int)"
   ]
  },
  {
   "cell_type": "code",
   "execution_count": 4,
   "id": "e6c1cb7e-d390-4d53-834e-0a566fcfeb3e",
   "metadata": {},
   "outputs": [],
   "source": [
    "video_df = kuairec_df.groupby(['video_id']).mean()['liked']"
   ]
  },
  {
   "cell_type": "code",
   "execution_count": 5,
   "id": "fbed07f4-de74-491c-89cb-c459aa863986",
   "metadata": {},
   "outputs": [],
   "source": [
    "train_videos, test_videos = train_test_split(video_df, test_size = 0.4, random_state=1729)"
   ]
  },
  {
   "cell_type": "code",
   "execution_count": 6,
   "id": "34a04175-2825-4793-ae97-07ca27c56d6c",
   "metadata": {},
   "outputs": [
    {
     "data": {
      "image/png": "[encoded data removed]",
      "text/plain": [
       "<Figure size 432x288 with 1 Axes>"
      ]
     },
     "metadata": {
      "needs_background": "light"
     },
     "output_type": "display_data"
    }
   ],
   "source": [
    "_ = sns.histplot(video_df).set(title='Histogram of like ratios')"
   ]
  },
  {
   "cell_type": "code",
   "execution_count": 7,
   "id": "df45b0cc-4bf2-4055-8319-d2ef7e0281b9",
   "metadata": {},
   "outputs": [],
   "source": [
    "def transform_values(i,n,prior=1/2):\n",
    "    return (i*(n-1)+prior)/n"
   ]
  },
  {
   "cell_type": "code",
   "execution_count": 8,
   "id": "9a4a14b3-4a48-4d67-b78f-96ea13a30816",
   "metadata": {},
   "outputs": [],
   "source": [
    "prior_a, prior_b, loc, scale = beta.fit([transform_values(i, len(train_videos.values),1/2)\n",
    "                                          for i in train_videos.values], floc=0, fscale=1)"
   ]
  },
  {
   "cell_type": "code",
   "execution_count": 9,
   "id": "65d8cf7f-4efc-42b2-9504-b1e4525ad2e0",
   "metadata": {},
   "outputs": [
    {
     "name": "stdout",
     "output_type": "stream",
     "text": [
      "14.270965891341989 5.916156493565227\n"
     ]
    }
   ],
   "source": [
    "prior_a *= 10\n",
    "prior_b *= 10\n",
    "print(prior_a, prior_b)"
   ]
  },
  {
   "cell_type": "markdown",
   "id": "335196a7-5fe1-45e1-9d1c-9bfeb2ca0cd5",
   "metadata": {},
   "source": [
    "## Load in and sanitize simulation results"
   ]
  },
  {
   "cell_type": "code",
   "execution_count": 207,
   "id": "67e4a095-24de-4b32-a68d-6a8fe070d9e8",
   "metadata": {},
   "outputs": [],
   "source": [
    "dir_dict = {'sims_opt': 'optimistic', 'sims_standard': 'standard', 'sims_strong': 'strong'}"
   ]
  },
  {
   "cell_type": "code",
   "execution_count": 208,
   "id": "f47ba14e-84cf-421d-a69b-1506390457cf",
   "metadata": {},
   "outputs": [],
   "source": [
    "data_dict = dict()\n",
    "\n",
    "for val in [0.0, 0.3, 0.7, 1.0]:\n",
    "    for k in dir_dict:\n",
    "        data_dict[(val, dir_dict[k])] = np.load(f'{k}/sim_data_alpha_{val}.npy',allow_pickle=True)[()]\n",
    "        for l in copy.deepcopy(list(data_dict[(val,dir_dict[k])].keys())):\n",
    "            if type(l)==tuple:\n",
    "                data_dict[(val,dir_dict[k])][l[0]] = data_dict[(val,dir_dict[k])].pop(l)"
   ]
  },
  {
   "cell_type": "code",
   "execution_count": 209,
   "id": "8197fd5b-4058-4135-a45a-e0341fb82670",
   "metadata": {},
   "outputs": [
    {
     "name": "stdout",
     "output_type": "stream",
     "text": [
      "processing key (0.0, 'sims_opt')\n",
      "processing key (0.0, 'sims_standard')\n",
      "processing key (0.0, 'sims_strong')\n",
      "processing key (0.0, 'soal_sims')\n"
     ]
    },
    {
     "ename": "FileNotFoundError",
     "evalue": "[Errno 2] No such file or directory: 'soal_sims/market_id_data_0.0.npy'",
     "output_type": "error",
     "traceback": [
      "\u001b[0;31m---------------------------------------------------------------------------\u001b[0m",
      "\u001b[0;31mFileNotFoundError\u001b[0m                         Traceback (most recent call last)",
      "\u001b[0;32m/var/folders/4v/rzrznpd91552xzcgvzdmv02w0000gn/T/ipykernel_20968/2779891867.py\u001b[0m in \u001b[0;36m<module>\u001b[0;34m\u001b[0m\n\u001b[1;32m      6\u001b[0m     \u001b[0;32mfor\u001b[0m \u001b[0mk\u001b[0m \u001b[0;32min\u001b[0m \u001b[0mdir_dict\u001b[0m\u001b[0;34m:\u001b[0m\u001b[0;34m\u001b[0m\u001b[0;34m\u001b[0m\u001b[0m\n\u001b[1;32m      7\u001b[0m         \u001b[0mprint\u001b[0m\u001b[0;34m(\u001b[0m\u001b[0;34mf\"processing key {(val, k)}\"\u001b[0m\u001b[0;34m)\u001b[0m\u001b[0;34m\u001b[0m\u001b[0;34m\u001b[0m\u001b[0m\n\u001b[0;32m----> 8\u001b[0;31m         \u001b[0mmarket_data\u001b[0m \u001b[0;34m=\u001b[0m \u001b[0mnp\u001b[0m\u001b[0;34m.\u001b[0m\u001b[0mload\u001b[0m\u001b[0;34m(\u001b[0m\u001b[0;34mf'{k}/market_id_data_{val}.npy'\u001b[0m\u001b[0;34m,\u001b[0m\u001b[0mallow_pickle\u001b[0m\u001b[0;34m=\u001b[0m\u001b[0;32mTrue\u001b[0m\u001b[0;34m)\u001b[0m\u001b[0;34m[\u001b[0m\u001b[0;34m(\u001b[0m\u001b[0;34m)\u001b[0m\u001b[0;34m]\u001b[0m\u001b[0;34m.\u001b[0m\u001b[0mastype\u001b[0m\u001b[0;34m(\u001b[0m\u001b[0mfloat\u001b[0m\u001b[0;34m)\u001b[0m\u001b[0;34m\u001b[0m\u001b[0;34m\u001b[0m\u001b[0m\n\u001b[0m\u001b[1;32m      9\u001b[0m         \u001b[0mmarket_dict\u001b[0m\u001b[0;34m[\u001b[0m\u001b[0;34m(\u001b[0m\u001b[0mval\u001b[0m\u001b[0;34m,\u001b[0m \u001b[0mdir_dict\u001b[0m\u001b[0;34m[\u001b[0m\u001b[0mk\u001b[0m\u001b[0;34m]\u001b[0m\u001b[0;34m)\u001b[0m\u001b[0;34m]\u001b[0m \u001b[0;34m=\u001b[0m \u001b[0mmarket_data\u001b[0m\u001b[0;34m\u001b[0m\u001b[0;34m\u001b[0m\u001b[0m\n\u001b[1;32m     10\u001b[0m \u001b[0;31m#         for i in range(market_data.shape[0]):\u001b[0m\u001b[0;34m\u001b[0m\u001b[0;34m\u001b[0m\u001b[0m\n",
      "\u001b[0;32m/Library/Frameworks/Python.framework/Versions/3.9/lib/python3.9/site-packages/numpy/lib/npyio.py\u001b[0m in \u001b[0;36mload\u001b[0;34m(file, mmap_mode, allow_pickle, fix_imports, encoding)\u001b[0m\n\u001b[1;32m    415\u001b[0m             \u001b[0mown_fid\u001b[0m \u001b[0;34m=\u001b[0m \u001b[0;32mFalse\u001b[0m\u001b[0;34m\u001b[0m\u001b[0;34m\u001b[0m\u001b[0m\n\u001b[1;32m    416\u001b[0m         \u001b[0;32melse\u001b[0m\u001b[0;34m:\u001b[0m\u001b[0;34m\u001b[0m\u001b[0;34m\u001b[0m\u001b[0m\n\u001b[0;32m--> 417\u001b[0;31m             \u001b[0mfid\u001b[0m \u001b[0;34m=\u001b[0m \u001b[0mstack\u001b[0m\u001b[0;34m.\u001b[0m\u001b[0menter_context\u001b[0m\u001b[0;34m(\u001b[0m\u001b[0mopen\u001b[0m\u001b[0;34m(\u001b[0m\u001b[0mos_fspath\u001b[0m\u001b[0;34m(\u001b[0m\u001b[0mfile\u001b[0m\u001b[0;34m)\u001b[0m\u001b[0;34m,\u001b[0m \u001b[0;34m\"rb\"\u001b[0m\u001b[0;34m)\u001b[0m\u001b[0;34m)\u001b[0m\u001b[0;34m\u001b[0m\u001b[0;34m\u001b[0m\u001b[0m\n\u001b[0m\u001b[1;32m    418\u001b[0m             \u001b[0mown_fid\u001b[0m \u001b[0;34m=\u001b[0m \u001b[0;32mTrue\u001b[0m\u001b[0;34m\u001b[0m\u001b[0;34m\u001b[0m\u001b[0m\n\u001b[1;32m    419\u001b[0m \u001b[0;34m\u001b[0m\u001b[0m\n",
      "\u001b[0;31mFileNotFoundError\u001b[0m: [Errno 2] No such file or directory: 'soal_sims/market_id_data_0.0.npy'"
     ]
    }
   ],
   "source": [
    "# there has to be a more efficient way to process this data!\n",
    "\n",
    "market_dict = dict()\n",
    "\n",
    "for val in [0.0, 0.3, 0.7, 1.0]:\n",
    "    for k in dir_dict:\n",
    "        print(f\"processing key {(val, k)}\")\n",
    "        market_data = np.load(f'{k}/market_id_data_{val}.npy',allow_pickle=True)[()].astype(float)\n",
    "        market_dict[(val, dir_dict[k])] = market_data\n",
    "#         for i in range(market_data.shape[0]):\n",
    "#             for j in range(market_data.shape[1]):\n",
    "#                 market_data[i,j] = video_df[market_data[i,j]]\n",
    "#         market_dict[(val,dir_dict[k])] = np.max(market_data,axis=1)"
   ]
  },
  {
   "cell_type": "code",
   "execution_count": 92,
   "id": "1be0e67d-c719-4ebf-85fa-7bbbeaf3b99f",
   "metadata": {},
   "outputs": [
    {
     "name": "stdout",
     "output_type": "stream",
     "text": [
      "processing key (0.0, 'sims_opt')\n",
      "processing key (0.0, 'sims_standard')\n",
      "processing key (0.0, 'sims_strong')\n",
      "processing key (0.3, 'sims_opt')\n",
      "processing key (0.3, 'sims_standard')\n",
      "processing key (0.3, 'sims_strong')\n",
      "processing key (0.7, 'sims_opt')\n",
      "processing key (0.7, 'sims_standard')\n",
      "processing key (0.7, 'sims_strong')\n",
      "processing key (1.0, 'sims_opt')\n",
      "processing key (1.0, 'sims_standard')\n",
      "processing key (1.0, 'sims_strong')\n"
     ]
    }
   ],
   "source": [
    "market_dict_top_item = dict()\n",
    "\n",
    "for val in [0.0, 0.3, 0.7, 1.0]:\n",
    "    for k in dir_dict:\n",
    "        print(f\"processing key {(val, k)}\")\n",
    "        market_data = np.load(f'{k}/market_id_data_{val}.npy',allow_pickle=True)[()].astype(float)\n",
    "        market_dict_top_item[(val, dir_dict[k])] = market_data\n",
    "        for i in range(market_data.shape[0]):\n",
    "            for j in range(market_data.shape[1]):\n",
    "                market_data[i,j] = video_df[market_data[i,j]]\n",
    "        market_dict_top_item[(val,dir_dict[k])] = np.max(market_data,axis=1)"
   ]
  },
  {
   "cell_type": "markdown",
   "id": "29858fd2-a46e-4fcc-aea1-2e1be410b385",
   "metadata": {},
   "source": [
    "## Plotting the central figure that we want to base our results on - the pareto curve"
   ]
  },
  {
   "cell_type": "code",
   "execution_count": 13,
   "id": "6a83e7c9-da1a-4837-8431-f8d046c70e48",
   "metadata": {},
   "outputs": [],
   "source": [
    "def gini_coeff(a):\n",
    "    temp = np.sort(a)\n",
    "    n = temp.shape[0]\n",
    "    counts = np.array(range(1,n+1))\n",
    "    asum = np.sum(temp)\n",
    "    return 1/n*(n+1 - 2*((n+1)*np.sum(temp) - temp @ counts)/asum)"
   ]
  },
  {
   "cell_type": "code",
   "execution_count": 14,
   "id": "7aa72494-8d9a-42fe-ab97-cc648686475f",
   "metadata": {},
   "outputs": [],
   "source": [
    "def get_quality_array(datadict, value_df):\n",
    "    a = []\n",
    "    for l in datadict:\n",
    "        for life in datadict[l]:\n",
    "            a.append(np.array([value_df[l]]*(int(np.round(np.sum(life[-1,:]) - np.sum(life[0,:]))))))\n",
    "            \n",
    "    return np.hstack(a)"
   ]
  },
  {
   "cell_type": "code",
   "execution_count": 15,
   "id": "49b278e8-fa58-426d-ae73-c8e911f29029",
   "metadata": {},
   "outputs": [],
   "source": [
    "def get_plays_array(datadict):\n",
    "    a = []\n",
    "    for l in datadict:\n",
    "        for lifespan in datadict[l]:\n",
    "            final_score = lifespan[-1]\n",
    "            a.append((final_score[0] + final_score[1] - np.sum(lifespan[0]))/lifespan.shape[0])\n",
    "            \n",
    "    return np.array(a)"
   ]
  },
  {
   "cell_type": "code",
   "execution_count": 179,
   "id": "4d43745c-4a7e-4274-94bd-9f2a137a84d3",
   "metadata": {},
   "outputs": [],
   "source": [
    "def get_average_plays_variance(datadict):\n",
    "    a = []\n",
    "    for l in datadict:\n",
    "        l_array = []\n",
    "        for lifespan in datadict[l]:\n",
    "            l_array.append((np.sum(lifespan[-1]) - np.sum(lifespan[0]))/(lifespan.shape[0]-1))\n",
    "        \n",
    "        a.append(np.std(l_array))\n",
    "        \n",
    "    return np.mean(a)\n"
   ]
  },
  {
   "cell_type": "code",
   "execution_count": 180,
   "id": "94c6fede-8d06-40ff-8b22-bfeb548f3c52",
   "metadata": {},
   "outputs": [
    {
     "data": {
      "text/plain": [
       "1"
      ]
     },
     "execution_count": 180,
     "metadata": {},
     "output_type": "execute_result"
    }
   ],
   "source": [
    "np.argmax(video_df[market_dict[(0.0, 'strong')][0,:]])"
   ]
  },
  {
   "cell_type": "code",
   "execution_count": 181,
   "id": "4d7cba3a-77a1-4fd7-abb0-a5e7f71a050e",
   "metadata": {},
   "outputs": [],
   "source": [
    "def get_plays_dict_from_market_data(marketdict, video_df):\n",
    "    datadict = {}\n",
    "    prev_mkt = marketdict[0,:]\n",
    "    counts = [[0] for _ in range(marketdict.shape[1])]\n",
    "    for i in range(marketdict.shape[0]):\n",
    "        if (i+1) % (marketdict.shape[0]//20) == 0:\n",
    "            print(f'iteration {i+1}/{marketdict.shape[0]}')\n",
    "        curr_market = marketdict[i,:]\n",
    "        best_vid_index = np.argmax(video_df[curr_market])\n",
    "        for j in range(marketdict.shape[1]):\n",
    "            if marketdict[i,j] not in datadict:\n",
    "                datadict[marketdict[i,j]] = []\n",
    "            \n",
    "            if marketdict[i,j] != prev_mkt[j]:\n",
    "                datadict[prev_mkt[j]].append(np.array(counts[j]))\n",
    "                counts[j] = [0]\n",
    "                \n",
    "            if j == best_vid_index:\n",
    "                counts[j].append(copy.deepcopy(counts[j][-1])+1)\n",
    "            else:\n",
    "                counts[j].append(copy.deepcopy(counts[j][-1]))\n",
    "                \n",
    "        prev_mkt = curr_market\n",
    "        \n",
    "    for j in range(marketdict.shape[1]):\n",
    "        datadict[prev_mkt[j]].append(np.array(counts[j]))\n",
    "        \n",
    "    return datadict\n",
    "                \n",
    "            \n",
    "            \n",
    "            "
   ]
  },
  {
   "cell_type": "code",
   "execution_count": 182,
   "id": "3072dac3-5d43-4e11-bb5e-a1fd7d0944d7",
   "metadata": {},
   "outputs": [
    {
     "name": "stdout",
     "output_type": "stream",
     "text": [
      "iteration 50000/1000000\n",
      "iteration 100000/1000000\n",
      "iteration 150000/1000000\n",
      "iteration 200000/1000000\n",
      "iteration 250000/1000000\n",
      "iteration 300000/1000000\n",
      "iteration 350000/1000000\n",
      "iteration 400000/1000000\n",
      "iteration 450000/1000000\n",
      "iteration 500000/1000000\n",
      "iteration 550000/1000000\n",
      "iteration 600000/1000000\n",
      "iteration 650000/1000000\n",
      "iteration 700000/1000000\n",
      "iteration 750000/1000000\n",
      "iteration 800000/1000000\n",
      "iteration 850000/1000000\n",
      "iteration 900000/1000000\n",
      "iteration 950000/1000000\n",
      "iteration 1000000/1000000\n"
     ]
    }
   ],
   "source": [
    "market_plays_dict = get_plays_dict_from_market_data(market_dict[(0.0,'standard')],video_df)"
   ]
  },
  {
   "cell_type": "code",
   "execution_count": 183,
   "id": "811063f6-6215-4571-b77a-9b1e8f83aca9",
   "metadata": {},
   "outputs": [],
   "source": [
    "for k in copy.deepcopy(list(market_plays_dict.keys())):\n",
    "    market_plays_dict[int(k)] = market_plays_dict.pop(k)"
   ]
  },
  {
   "cell_type": "code",
   "execution_count": 184,
   "id": "110c39e2-78aa-450f-aa38-6207b392d7ad",
   "metadata": {},
   "outputs": [],
   "source": [
    "df_list = []\n",
    "for k in data_dict:\n",
    "    pareto_df = pd.DataFrame()\n",
    "    prior_a, prior_b = data_dict[k][list(data_dict[k].keys())[0]][0][0,:]\n",
    "    total_val, total_plays = 0, 0\n",
    "    \n",
    "#     pareto_df = pd.DataFrame([[k[0], \n",
    "#                               k[1],\n",
    "#                               prior_a, \n",
    "#                               prior_b, \n",
    "#                               np.sum(market_dict[k] - get_quality_array(data_dict[k], video_df)),\n",
    "#                               gini_coeff(get_plays_array(data_dict[k]))]],\n",
    "#                               columns=['eta', 'dataset', 'prior_a', 'prior_b', 'regret', 'gini_coeff'])\n",
    "\n",
    "    pareto_df = pd.DataFrame([[k[0], \n",
    "                              k[1],\n",
    "                              prior_a, \n",
    "                              prior_b, \n",
    "                              np.sum(market_dict_top_item[k] - get_quality_array(data_dict[k], video_df)),\n",
    "                              get_average_plays_variance(data_dict[k])]],\n",
    "                              columns=['eta', 'dataset', 'prior_a', 'prior_b', 'regret', 'var'])\n",
    "    \n",
    "    df_list.append(pareto_df)"
   ]
  },
  {
   "cell_type": "code",
   "execution_count": 185,
   "id": "4d171218-ca68-4457-84da-cc402a136461",
   "metadata": {},
   "outputs": [],
   "source": [
    "oracle_df = pd.DataFrame([[0, \n",
    "                           'oracle',\n",
    "                           0, \n",
    "                           0, \n",
    "                           0,\n",
    "                           get_average_plays_variance(market_plays_dict)]],\n",
    "                           columns=['eta', 'dataset', 'prior_a', 'prior_b', 'regret', 'var'])"
   ]
  },
  {
   "cell_type": "code",
   "execution_count": 204,
   "id": "de6bfbab-07c0-40d5-95cc-30be7d6bdf90",
   "metadata": {},
   "outputs": [],
   "source": [
    "pareto_df = pd.concat(df_list + [oracle_df])"
   ]
  },
  {
   "cell_type": "code",
   "execution_count": 205,
   "id": "1fbc8929-8767-4b14-a914-8c753f5c9aaa",
   "metadata": {},
   "outputs": [
    {
     "data": {
      "text/html": [
       "<div>\n",
       "<style scoped>\n",
       "    .dataframe tbody tr th:only-of-type {\n",
       "        vertical-align: middle;\n",
       "    }\n",
       "\n",
       "    .dataframe tbody tr th {\n",
       "        vertical-align: top;\n",
       "    }\n",
       "\n",
       "    .dataframe thead th {\n",
       "        text-align: right;\n",
       "    }\n",
       "</style>\n",
       "<table border=\"1\" class=\"dataframe\">\n",
       "  <thead>\n",
       "    <tr style=\"text-align: right;\">\n",
       "      <th></th>\n",
       "      <th>index</th>\n",
       "      <th>eta</th>\n",
       "      <th>dataset</th>\n",
       "      <th>prior_a</th>\n",
       "      <th>prior_b</th>\n",
       "      <th>regret</th>\n",
       "      <th>var</th>\n",
       "    </tr>\n",
       "  </thead>\n",
       "  <tbody>\n",
       "    <tr>\n",
       "      <th>2</th>\n",
       "      <td>0</td>\n",
       "      <td>0.0</td>\n",
       "      <td>strong</td>\n",
       "      <td>1.000000</td>\n",
       "      <td>1.000000</td>\n",
       "      <td>54534.876711</td>\n",
       "      <td>0.095398</td>\n",
       "    </tr>\n",
       "    <tr>\n",
       "      <th>3</th>\n",
       "      <td>0</td>\n",
       "      <td>0.3</td>\n",
       "      <td>optimistic</td>\n",
       "      <td>1.128129</td>\n",
       "      <td>0.877485</td>\n",
       "      <td>56298.775910</td>\n",
       "      <td>0.097315</td>\n",
       "    </tr>\n",
       "    <tr>\n",
       "      <th>4</th>\n",
       "      <td>0</td>\n",
       "      <td>0.3</td>\n",
       "      <td>standard</td>\n",
       "      <td>4.981290</td>\n",
       "      <td>2.474847</td>\n",
       "      <td>58058.092916</td>\n",
       "      <td>0.090181</td>\n",
       "    </tr>\n",
       "    <tr>\n",
       "      <th>5</th>\n",
       "      <td>0</td>\n",
       "      <td>0.3</td>\n",
       "      <td>strong</td>\n",
       "      <td>3.700000</td>\n",
       "      <td>3.700000</td>\n",
       "      <td>52150.826348</td>\n",
       "      <td>0.103593</td>\n",
       "    </tr>\n",
       "    <tr>\n",
       "      <th>6</th>\n",
       "      <td>0</td>\n",
       "      <td>0.7</td>\n",
       "      <td>optimistic</td>\n",
       "      <td>1.298968</td>\n",
       "      <td>0.714131</td>\n",
       "      <td>58611.914684</td>\n",
       "      <td>0.103638</td>\n",
       "    </tr>\n",
       "    <tr>\n",
       "      <th>7</th>\n",
       "      <td>0</td>\n",
       "      <td>0.7</td>\n",
       "      <td>standard</td>\n",
       "      <td>10.289676</td>\n",
       "      <td>4.441310</td>\n",
       "      <td>61168.828344</td>\n",
       "      <td>0.089871</td>\n",
       "    </tr>\n",
       "    <tr>\n",
       "      <th>8</th>\n",
       "      <td>0</td>\n",
       "      <td>0.7</td>\n",
       "      <td>strong</td>\n",
       "      <td>7.300000</td>\n",
       "      <td>7.300000</td>\n",
       "      <td>55896.051091</td>\n",
       "      <td>0.108252</td>\n",
       "    </tr>\n",
       "    <tr>\n",
       "      <th>9</th>\n",
       "      <td>0</td>\n",
       "      <td>1.0</td>\n",
       "      <td>optimistic</td>\n",
       "      <td>1.427097</td>\n",
       "      <td>0.591616</td>\n",
       "      <td>60335.918033</td>\n",
       "      <td>0.108679</td>\n",
       "    </tr>\n",
       "    <tr>\n",
       "      <th>10</th>\n",
       "      <td>0</td>\n",
       "      <td>1.0</td>\n",
       "      <td>standard</td>\n",
       "      <td>14.270966</td>\n",
       "      <td>5.916156</td>\n",
       "      <td>63164.557368</td>\n",
       "      <td>0.089358</td>\n",
       "    </tr>\n",
       "    <tr>\n",
       "      <th>11</th>\n",
       "      <td>0</td>\n",
       "      <td>1.0</td>\n",
       "      <td>strong</td>\n",
       "      <td>10.000000</td>\n",
       "      <td>10.000000</td>\n",
       "      <td>58618.834321</td>\n",
       "      <td>0.108776</td>\n",
       "    </tr>\n",
       "    <tr>\n",
       "      <th>12</th>\n",
       "      <td>0</td>\n",
       "      <td>0.0</td>\n",
       "      <td>oracle</td>\n",
       "      <td>0.000000</td>\n",
       "      <td>0.000000</td>\n",
       "      <td>0.000000</td>\n",
       "      <td>0.103080</td>\n",
       "    </tr>\n",
       "  </tbody>\n",
       "</table>\n",
       "</div>"
      ],
      "text/plain": [
       "    index  eta     dataset    prior_a    prior_b        regret       var\n",
       "2       0  0.0      strong   1.000000   1.000000  54534.876711  0.095398\n",
       "3       0  0.3  optimistic   1.128129   0.877485  56298.775910  0.097315\n",
       "4       0  0.3    standard   4.981290   2.474847  58058.092916  0.090181\n",
       "5       0  0.3      strong   3.700000   3.700000  52150.826348  0.103593\n",
       "6       0  0.7  optimistic   1.298968   0.714131  58611.914684  0.103638\n",
       "7       0  0.7    standard  10.289676   4.441310  61168.828344  0.089871\n",
       "8       0  0.7      strong   7.300000   7.300000  55896.051091  0.108252\n",
       "9       0  1.0  optimistic   1.427097   0.591616  60335.918033  0.108679\n",
       "10      0  1.0    standard  14.270966   5.916156  63164.557368  0.089358\n",
       "11      0  1.0      strong  10.000000  10.000000  58618.834321  0.108776\n",
       "12      0  0.0      oracle   0.000000   0.000000      0.000000  0.103080"
      ]
     },
     "execution_count": 205,
     "metadata": {},
     "output_type": "execute_result"
    }
   ],
   "source": [
    "pareto_df = pareto_df.reset_index().drop(index=[0,1])\n",
    "pareto_df"
   ]
  },
  {
   "cell_type": "code",
   "execution_count": 206,
   "id": "417fa6f9-ca77-4fb6-9638-c49a25fae205",
   "metadata": {},
   "outputs": [
    {
     "data": {
      "image/png": "[encoded data removed]",
      "text/plain": [
       "<Figure size 864x432 with 1 Axes>"
      ]
     },
     "metadata": {
      "needs_background": "light"
     },
     "output_type": "display_data"
    }
   ],
   "source": [
    "\n",
    "\n",
    "x = list(pareto_df['var'])\n",
    "y = list(pareto_df['regret'])\n",
    "colors = list(pareto_df['dataset'])\n",
    "\n",
    "color_dict = {\"standard\":\"blue\", \"strong\":\"red\", \"optimistic\":\"green\", 'oracle':\"pink\"}\n",
    "\n",
    "fig,ax = plt.subplots()\n",
    "fig.set_size_inches(12,6)\n",
    "ax.scatter(x, y, color=[color_dict[item] for item in colors])\n",
    "plt.xlabel('standard deviation of # plays')\n",
    "plt.ylabel('total regret')\n",
    "\n",
    "labels = pareto_df[['prior_a', 'prior_b']].to_numpy()\n",
    "\n",
    "red_patch = mpatches.Patch(color='red', label='strong')\n",
    "blue_patch = mpatches.Patch(color='blue', label='both')\n",
    "green_patch = mpatches.Patch(color='green', label='opt')\n",
    "pink_patch = mpatches.Patch(color='pink', label='oracle')\n",
    "plt.legend(handles=[red_patch, blue_patch, green_patch, pink_patch])\n",
    "\n",
    "for i in range(labels.shape[0]):\n",
    "    ax.annotate(f\"{np.round(labels[i,0],3)},{np.round(labels[i,1],3)}\", (x[i], y[i]))"
   ]
  },
  {
   "cell_type": "code",
   "execution_count": 189,
   "id": "f3a89c22-4d9c-4b02-a9e3-659c7a2b9747",
   "metadata": {},
   "outputs": [
    {
     "data": {
      "text/plain": [
       "video_id\n",
       "4659     0.941818\n",
       "3118     0.946137\n",
       "4685     0.946137\n",
       "10462    0.952620\n",
       "1452     0.956903\n",
       "Name: liked, dtype: float64"
      ]
     },
     "execution_count": 189,
     "metadata": {},
     "output_type": "execute_result"
    }
   ],
   "source": [
    "video_df[market_plays_dict.keys()].sort_values().tail()"
   ]
  },
  {
   "cell_type": "code",
   "execution_count": 190,
   "id": "69fa5261-dc3a-49c8-aea5-15ca2be214c5",
   "metadata": {},
   "outputs": [
    {
     "data": {
      "text/plain": [
       "103.28672219131722"
      ]
     },
     "execution_count": 190,
     "metadata": {},
     "output_type": "execute_result"
    }
   ],
   "source": [
    "np.std([item[-1] - item[0] for item in market_plays_dict[1452]])"
   ]
  },
  {
   "cell_type": "code",
   "execution_count": 196,
   "id": "8683fa66-0832-4ce1-a041-929e32fd510f",
   "metadata": {},
   "outputs": [
    {
     "data": {
      "text/plain": [
       "0.39062448044863196"
      ]
     },
     "execution_count": 196,
     "metadata": {},
     "output_type": "execute_result"
    }
   ],
   "source": [
    "np.std([(item[-1] - item[0])/(item.shape[0]-1) for item in market_plays_dict[4659]])"
   ]
  },
  {
   "cell_type": "code",
   "execution_count": null,
   "id": "0535764b-de41-4acf-b362-02621c3cd2cc",
   "metadata": {},
   "outputs": [],
   "source": []
  }
 ],
 "metadata": {
  "kernelspec": {
   "display_name": "Python 3 (ipykernel)",
   "language": "python",
   "name": "python3"
  },
  "language_info": {
   "codemirror_mode": {
    "name": "ipython",
    "version": 3
   },
   "file_extension": ".py",
   "mimetype": "text/x-python",
   "name": "python",
   "nbconvert_exporter": "python",
   "pygments_lexer": "ipython3",
   "version": "3.9.7"
  }
 },
 "nbformat": 4,
 "nbformat_minor": 5
}
