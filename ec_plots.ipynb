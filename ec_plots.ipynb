{
 "cells": [
  {
   "cell_type": "code",
   "execution_count": 1,
   "id": "61dc54b0-bcf5-4e8f-b4ff-dbacee5da087",
   "metadata": {},
   "outputs": [],
   "source": [
    "import numpy as np\n",
    "import pandas as pd\n",
    "import scipy\n",
    "import random\n",
    "import matplotlib.pyplot as plt\n",
    "import seaborn as sns\n",
    "import copy\n",
    "import itertools\n",
    "import os\n",
    "\n",
    "\n",
    "import matplotlib.patches as mpatches\n",
    "from sklearn.model_selection import train_test_split\n",
    "from scipy.stats import beta"
   ]
  },
  {
   "cell_type": "markdown",
   "id": "0a6686ae-6bcd-4235-9e82-d06f306ac48a",
   "metadata": {},
   "source": [
    "## Setup: Get EB prior"
   ]
  },
  {
   "cell_type": "code",
   "execution_count": 2,
   "id": "003c3d36-af5a-4c9e-8192-aa64291dad3c",
   "metadata": {},
   "outputs": [],
   "source": [
    "kuairec_df = pd.read_csv('KuaiRec 2.0/data/small_matrix.csv')"
   ]
  },
  {
   "cell_type": "code",
   "execution_count": 3,
   "id": "11ee69c0-0203-4418-8909-6e5a7721cb59",
   "metadata": {},
   "outputs": [],
   "source": [
    "kuairec_df['liked'] = kuairec_df['watch_ratio'] > 0.4\n",
    "kuairec_df['liked'] = kuairec_df['liked'].astype(int)"
   ]
  },
  {
   "cell_type": "code",
   "execution_count": 4,
   "id": "e6c1cb7e-d390-4d53-834e-0a566fcfeb3e",
   "metadata": {},
   "outputs": [],
   "source": [
    "video_df = kuairec_df.groupby(['video_id']).mean()['liked']"
   ]
  },
  {
   "cell_type": "code",
   "execution_count": 5,
   "id": "fbed07f4-de74-491c-89cb-c459aa863986",
   "metadata": {},
   "outputs": [],
   "source": [
    "train_videos, test_videos = train_test_split(video_df, test_size = 0.4, random_state=1729)"
   ]
  },
  {
   "cell_type": "code",
   "execution_count": 6,
   "id": "34a04175-2825-4793-ae97-07ca27c56d6c",
   "metadata": {},
   "outputs": [
    {
     "data": {
      "image/png": "[encoded data removed]",
      "text/plain": [
       "<Figure size 432x288 with 1 Axes>"
      ]
     },
     "metadata": {
      "needs_background": "light"
     },
     "output_type": "display_data"
    }
   ],
   "source": [
    "_ = sns.histplot(video_df).set(title='Histogram of like ratios')"
   ]
  },
  {
   "cell_type": "code",
   "execution_count": 7,
   "id": "df45b0cc-4bf2-4055-8319-d2ef7e0281b9",
   "metadata": {},
   "outputs": [],
   "source": [
    "def transform_values(i,n,prior=1/2):\n",
    "    return (i*(n-1)+prior)/n"
   ]
  },
  {
   "cell_type": "code",
   "execution_count": 8,
   "id": "9a4a14b3-4a48-4d67-b78f-96ea13a30816",
   "metadata": {},
   "outputs": [],
   "source": [
    "prior_a, prior_b, loc, scale = beta.fit([transform_values(i, len(train_videos.values),1/2)\n",
    "                                          for i in train_videos.values], floc=0, fscale=1)"
   ]
  },
  {
   "cell_type": "code",
   "execution_count": 9,
   "id": "65d8cf7f-4efc-42b2-9504-b1e4525ad2e0",
   "metadata": {},
   "outputs": [
    {
     "name": "stdout",
     "output_type": "stream",
     "text": [
      "14.270965891341989 5.916156493565227\n"
     ]
    }
   ],
   "source": [
    "prior_a *= 10\n",
    "prior_b *= 10\n",
    "print(prior_a, prior_b)"
   ]
  },
  {
   "cell_type": "markdown",
   "id": "335196a7-5fe1-45e1-9d1c-9bfeb2ca0cd5",
   "metadata": {},
   "source": [
    "## Load in and sanitize simulation results"
   ]
  },
  {
   "cell_type": "code",
   "execution_count": 10,
   "id": "67e4a095-24de-4b32-a68d-6a8fe070d9e8",
   "metadata": {},
   "outputs": [],
   "source": [
    "dir_dict = {\n",
    "#     'sims_opt': 'optimistic', \n",
    "    'sims_standard': 'standard', \n",
    "#     'sims_strong': 'strong'\n",
    "}\n",
    "\n",
    "eta_dict = [\n",
    "    0.0,\n",
    "    0.1,\n",
    "    0.2,\n",
    "    0.3,\n",
    "    0.4,\n",
    "    0.5,\n",
    "    0.6,\n",
    "    0.7,\n",
    "    0.8,\n",
    "    0.9,\n",
    "    1.0\n",
    "]"
   ]
  },
  {
   "cell_type": "code",
   "execution_count": 11,
   "id": "f47ba14e-84cf-421d-a69b-1506390457cf",
   "metadata": {},
   "outputs": [],
   "source": [
    "data_dict = dict()\n",
    "\n",
    "for val in eta_dict:\n",
    "    for k in dir_dict:\n",
    "        data_dict[(val, dir_dict[k])] = np.load(f'{k}/sim_data_alpha_{val}.npy',allow_pickle=True)[()]\n",
    "        for l in copy.deepcopy(list(data_dict[(val,dir_dict[k])].keys())):\n",
    "            if type(l)==tuple:\n",
    "                data_dict[(val,dir_dict[k])][l[0]] = data_dict[(val,dir_dict[k])].pop(l)"
   ]
  },
  {
   "cell_type": "code",
   "execution_count": 12,
   "id": "8197fd5b-4058-4135-a45a-e0341fb82670",
   "metadata": {},
   "outputs": [
    {
     "name": "stdout",
     "output_type": "stream",
     "text": [
      "processing key (0.0, 'sims_standard')\n",
      "processing key (0.1, 'sims_standard')\n",
      "processing key (0.2, 'sims_standard')\n",
      "processing key (0.3, 'sims_standard')\n",
      "processing key (0.4, 'sims_standard')\n",
      "processing key (0.5, 'sims_standard')\n",
      "processing key (0.6, 'sims_standard')\n",
      "processing key (0.7, 'sims_standard')\n",
      "processing key (0.8, 'sims_standard')\n",
      "processing key (0.9, 'sims_standard')\n",
      "processing key (1.0, 'sims_standard')\n"
     ]
    }
   ],
   "source": [
    "# there has to be a more efficient way to process this data!\n",
    "\n",
    "market_dict = dict()\n",
    "\n",
    "for val in eta_dict:\n",
    "    for k in dir_dict:\n",
    "        print(f\"processing key {(val, k)}\")\n",
    "        market_data = np.load(f'{k}/market_id_data_{val}.npy',allow_pickle=True)[()].astype(float)\n",
    "        market_dict[(val, dir_dict[k])] = market_data\n",
    "#         for i in range(market_data.shape[0]):\n",
    "#             for j in range(market_data.shape[1]):\n",
    "#                 market_data[i,j] = video_df[market_data[i,j]]\n",
    "#         market_dict[(val,dir_dict[k])] = np.max(market_data,axis=1)"
   ]
  },
  {
   "cell_type": "code",
   "execution_count": 13,
   "id": "1be0e67d-c719-4ebf-85fa-7bbbeaf3b99f",
   "metadata": {},
   "outputs": [
    {
     "name": "stdout",
     "output_type": "stream",
     "text": [
      "processing key (0.0, 'sims_standard')\n",
      "processing key (0.1, 'sims_standard')\n",
      "processing key (0.2, 'sims_standard')\n",
      "processing key (0.3, 'sims_standard')\n",
      "processing key (0.4, 'sims_standard')\n",
      "processing key (0.5, 'sims_standard')\n",
      "processing key (0.6, 'sims_standard')\n",
      "processing key (0.7, 'sims_standard')\n",
      "processing key (0.8, 'sims_standard')\n",
      "processing key (0.9, 'sims_standard')\n",
      "processing key (1.0, 'sims_standard')\n"
     ]
    }
   ],
   "source": [
    "market_dict_top_item = dict()\n",
    "\n",
    "for val in eta_dict:\n",
    "    for k in dir_dict:\n",
    "        print(f\"processing key {(val, k)}\")\n",
    "        market_data = np.load(f'{k}/market_id_data_{val}.npy',allow_pickle=True)[()].astype(float)\n",
    "        market_dict_top_item[(val, dir_dict[k])] = market_data\n",
    "        for i in range(market_data.shape[0]):\n",
    "            for j in range(market_data.shape[1]):\n",
    "                market_data[i,j] = video_df[market_data[i,j]]\n",
    "        market_dict_top_item[(val,dir_dict[k])] = np.max(market_data,axis=1)"
   ]
  },
  {
   "cell_type": "code",
   "execution_count": 14,
   "id": "77ca49a2-675d-483f-8fa3-35fb59c3dacd",
   "metadata": {},
   "outputs": [],
   "source": [
    "def get_plays_dict_from_market_data_loss_min(marketdict, video_df):\n",
    "    datadict = {}\n",
    "    prev_mkt = marketdict[0,:]\n",
    "    counts = [[0] for _ in range(marketdict.shape[1])]\n",
    "    welfare = 0\n",
    "    for i in range(marketdict.shape[0]):\n",
    "        if (i+1) % (marketdict.shape[0]//20) == 0:\n",
    "            print(f'iteration {i+1}/{marketdict.shape[0]}')\n",
    "        curr_market = marketdict[i,:]\n",
    "        best_vid_index = np.argmax(video_df[curr_market].values)\n",
    "        welfare += video_df[curr_market[best_vid_index]]\n",
    "        for j in range(marketdict.shape[1]):\n",
    "            if marketdict[i,j] not in datadict:\n",
    "                datadict[marketdict[i,j]] = []\n",
    "            \n",
    "            if marketdict[i,j] != prev_mkt[j]:\n",
    "                datadict[prev_mkt[j]].append(np.array(counts[j]))\n",
    "                counts[j] = [0]\n",
    "                \n",
    "            if j == best_vid_index:\n",
    "                counts[j].append(copy.deepcopy(counts[j][-1])+1)\n",
    "            else:\n",
    "                counts[j].append(copy.deepcopy(counts[j][-1]))\n",
    "                \n",
    "        prev_mkt = curr_market\n",
    "        \n",
    "    for j in range(marketdict.shape[1]):\n",
    "        datadict[prev_mkt[j]].append(np.array(counts[j]))\n",
    "        \n",
    "    return datadict, welfare\n"
   ]
  },
  {
   "cell_type": "code",
   "execution_count": 15,
   "id": "87e66790-a55d-4c5f-87c3-edef346fe389",
   "metadata": {},
   "outputs": [
    {
     "name": "stdout",
     "output_type": "stream",
     "text": [
      "iteration 50000/1000000\n",
      "iteration 100000/1000000\n",
      "iteration 150000/1000000\n",
      "iteration 200000/1000000\n",
      "iteration 250000/1000000\n",
      "iteration 300000/1000000\n",
      "iteration 350000/1000000\n",
      "iteration 400000/1000000\n",
      "iteration 450000/1000000\n",
      "iteration 500000/1000000\n",
      "iteration 550000/1000000\n",
      "iteration 600000/1000000\n",
      "iteration 650000/1000000\n",
      "iteration 700000/1000000\n",
      "iteration 750000/1000000\n",
      "iteration 800000/1000000\n",
      "iteration 850000/1000000\n",
      "iteration 900000/1000000\n",
      "iteration 950000/1000000\n",
      "iteration 1000000/1000000\n"
     ]
    }
   ],
   "source": [
    "oracle_plays_dict, oracle_welfare = get_plays_dict_from_market_data_loss_min(market_dict[(0.0,'standard')],video_df)"
   ]
  },
  {
   "cell_type": "code",
   "execution_count": 16,
   "id": "21265367-e2ca-4f1a-9dfa-c431bda21a46",
   "metadata": {},
   "outputs": [],
   "source": [
    "def get_plays_dict_from_market_data_var_min(marketdict, video_df):\n",
    "    datadict = {}\n",
    "    prev_mkt = marketdict[0,:]\n",
    "    counts = [[0] for _ in range(marketdict.shape[1])]\n",
    "    welfare = 0\n",
    "    for i in range(marketdict.shape[0]):\n",
    "        if (i+1) % (marketdict.shape[0]//20) == 0:\n",
    "            print(f'iteration {i+1}/{marketdict.shape[0]}')\n",
    "        curr_market = marketdict[i,:]\n",
    "        best_vid_index = np.argmax([-count[-1]/len(count) for count in counts])\n",
    "        welfare += video_df[curr_market[best_vid_index]]\n",
    "        for j in range(marketdict.shape[1]):\n",
    "            if marketdict[i,j] not in datadict:\n",
    "                datadict[marketdict[i,j]] = []\n",
    "            \n",
    "            if marketdict[i,j] != prev_mkt[j]:\n",
    "                datadict[prev_mkt[j]].append(np.array(counts[j]))\n",
    "                counts[j] = [0]\n",
    "                \n",
    "            if j == best_vid_index:\n",
    "                counts[j].append(copy.deepcopy(counts[j][-1])+1)\n",
    "            else:\n",
    "                counts[j].append(copy.deepcopy(counts[j][-1]))\n",
    "                \n",
    "        prev_mkt = curr_market\n",
    "        \n",
    "    for j in range(marketdict.shape[1]):\n",
    "        datadict[prev_mkt[j]].append(np.array(counts[j]))\n",
    "        \n",
    "    return datadict, welfare\n"
   ]
  },
  {
   "cell_type": "code",
   "execution_count": 17,
   "id": "1ef7d7fd-f1e9-4db1-9a77-d494b89ba503",
   "metadata": {},
   "outputs": [
    {
     "name": "stdout",
     "output_type": "stream",
     "text": [
      "iteration 50000/1000000\n",
      "iteration 100000/1000000\n",
      "iteration 150000/1000000\n",
      "iteration 200000/1000000\n",
      "iteration 250000/1000000\n",
      "iteration 300000/1000000\n",
      "iteration 350000/1000000\n",
      "iteration 400000/1000000\n",
      "iteration 450000/1000000\n",
      "iteration 500000/1000000\n",
      "iteration 550000/1000000\n",
      "iteration 600000/1000000\n",
      "iteration 650000/1000000\n",
      "iteration 700000/1000000\n",
      "iteration 750000/1000000\n",
      "iteration 800000/1000000\n",
      "iteration 850000/1000000\n",
      "iteration 900000/1000000\n",
      "iteration 950000/1000000\n",
      "iteration 1000000/1000000\n"
     ]
    }
   ],
   "source": [
    "var_min_plays_dict, var_min_welfare = get_plays_dict_from_market_data_var_min(market_dict[(0.0,'standard')],video_df)"
   ]
  },
  {
   "cell_type": "markdown",
   "id": "29858fd2-a46e-4fcc-aea1-2e1be410b385",
   "metadata": {},
   "source": [
    "## Plotting the central figure that we want to base our results on - the pareto curve"
   ]
  },
  {
   "cell_type": "code",
   "execution_count": 18,
   "id": "6a83e7c9-da1a-4837-8431-f8d046c70e48",
   "metadata": {},
   "outputs": [],
   "source": [
    "def gini_coeff(a):\n",
    "    temp = np.sort(a)\n",
    "    n = temp.shape[0]\n",
    "    counts = np.array(range(1,n+1))\n",
    "    asum = np.sum(temp)\n",
    "    return 1/n*(n+1 - 2*((n+1)*np.sum(temp) - temp @ counts)/asum)"
   ]
  },
  {
   "cell_type": "code",
   "execution_count": 19,
   "id": "7aa72494-8d9a-42fe-ab97-cc648686475f",
   "metadata": {},
   "outputs": [],
   "source": [
    "def get_quality_array(datadict, value_df):\n",
    "    a = []\n",
    "    for l in datadict:\n",
    "        for life in datadict[l]:\n",
    "            a.append(np.array([value_df[l]]*(int(np.round(np.sum(life[-1,:]) - np.sum(life[0,:]))))))\n",
    "            \n",
    "    return np.hstack(a)"
   ]
  },
  {
   "cell_type": "code",
   "execution_count": 20,
   "id": "49b278e8-fa58-426d-ae73-c8e911f29029",
   "metadata": {},
   "outputs": [],
   "source": [
    "def get_plays_array(datadict):\n",
    "    a = []\n",
    "    for l in datadict:\n",
    "        for lifespan in datadict[l]:\n",
    "            final_score = lifespan[-1]\n",
    "            a.append((final_score[0] + final_score[1] - np.sum(lifespan[0]))/lifespan.shape[0])\n",
    "            \n",
    "    return np.array(a)"
   ]
  },
  {
   "cell_type": "code",
   "execution_count": 21,
   "id": "4d43745c-4a7e-4274-94bd-9f2a137a84d3",
   "metadata": {},
   "outputs": [],
   "source": [
    "def get_average_plays_variance(datadict):\n",
    "    a = []\n",
    "    for l in datadict:\n",
    "        l_array = []\n",
    "        for lifespan in datadict[l]:\n",
    "            l_array.append((np.sum(lifespan[-1]) - np.sum(lifespan[0]))/(lifespan.shape[0]-1))\n",
    "        \n",
    "        a.append(np.std(l_array))\n",
    "        \n",
    "    return np.mean(a)\n"
   ]
  },
  {
   "cell_type": "code",
   "execution_count": 22,
   "id": "811063f6-6215-4571-b77a-9b1e8f83aca9",
   "metadata": {},
   "outputs": [],
   "source": [
    "for k in copy.deepcopy(list(oracle_plays_dict.keys())):\n",
    "    oracle_plays_dict[int(k)] = oracle_plays_dict.pop(k)"
   ]
  },
  {
   "cell_type": "code",
   "execution_count": 23,
   "id": "508e1740-ae80-4658-97cd-dc188ee18da6",
   "metadata": {},
   "outputs": [],
   "source": [
    "for k in copy.deepcopy(list(var_min_plays_dict.keys())):\n",
    "    var_min_plays_dict[int(k)] = var_min_plays_dict.pop(k)"
   ]
  },
  {
   "cell_type": "code",
   "execution_count": 24,
   "id": "110c39e2-78aa-450f-aa38-6207b392d7ad",
   "metadata": {},
   "outputs": [],
   "source": [
    "df_list = []\n",
    "for k in data_dict:\n",
    "    pareto_df = pd.DataFrame()\n",
    "    prior_a, prior_b = data_dict[k][list(data_dict[k].keys())[0]][0][0,:]\n",
    "    total_val, total_plays = 0, 0\n",
    "    \n",
    "#     pareto_df = pd.DataFrame([[k[0], \n",
    "#                               k[1],\n",
    "#                               prior_a, \n",
    "#                               prior_b, \n",
    "#                               np.sum(market_dict[k] - get_quality_array(data_dict[k], video_df)),\n",
    "#                               gini_coeff(get_plays_array(data_dict[k]))]],\n",
    "#                               columns=['eta', 'dataset', 'prior_a', 'prior_b', 'regret', 'gini_coeff'])\n",
    "\n",
    "    pareto_df = pd.DataFrame([[k[0], \n",
    "                              k[1],\n",
    "                              prior_a, \n",
    "                              prior_b, \n",
    "                              np.sum(market_dict_top_item[k] - get_quality_array(data_dict[k], video_df)),\n",
    "                              get_average_plays_variance(data_dict[k])]],\n",
    "                              columns=['eta', 'dataset', 'prior_a', 'prior_b', 'regret', 'var'])\n",
    "    \n",
    "    df_list.append(pareto_df)"
   ]
  },
  {
   "cell_type": "code",
   "execution_count": 25,
   "id": "4d171218-ca68-4457-84da-cc402a136461",
   "metadata": {},
   "outputs": [],
   "source": [
    "oracle_df = pd.DataFrame([[0, \n",
    "                           'oracle',\n",
    "                           0, \n",
    "                           0, \n",
    "                           np.sum(market_dict_top_item[(0.0, 'standard')]) - oracle_welfare,\n",
    "                           get_average_plays_variance(oracle_plays_dict)]],\n",
    "                           columns=['eta', 'dataset', 'prior_a', 'prior_b', 'regret', 'var'])"
   ]
  },
  {
   "cell_type": "code",
   "execution_count": 26,
   "id": "6f09b87a-c62a-4bdd-9644-db5c1612a489",
   "metadata": {},
   "outputs": [],
   "source": [
    "var_min_df = pd.DataFrame([[0, \n",
    "                           'var_min_oracle',\n",
    "                           0, \n",
    "                           0, \n",
    "                           np.sum(market_dict_top_item[(0.0, 'standard')]) - var_min_welfare,\n",
    "                           get_average_plays_variance(var_min_plays_dict)]],\n",
    "                           columns=['eta', 'dataset', 'prior_a', 'prior_b', 'regret', 'var'])"
   ]
  },
  {
   "cell_type": "code",
   "execution_count": 27,
   "id": "de6bfbab-07c0-40d5-95cc-30be7d6bdf90",
   "metadata": {},
   "outputs": [],
   "source": [
    "pareto_df = pd.concat(df_list + [oracle_df, var_min_df])\n",
    "pareto_df = pareto_df[pareto_df['dataset']=='standard']"
   ]
  },
  {
   "cell_type": "code",
   "execution_count": 28,
   "id": "417fa6f9-ca77-4fb6-9638-c49a25fae205",
   "metadata": {},
   "outputs": [
    {
     "data": {
      "image/png": "[encoded data removed]",
      "text/plain": [
       "<Figure size 864x432 with 1 Axes>"
      ]
     },
     "metadata": {
      "needs_background": "light"
     },
     "output_type": "display_data"
    }
   ],
   "source": [
    "\n",
    "\n",
    "x = list(pareto_df['var'])\n",
    "y = list(pareto_df['regret'])\n",
    "colors = list(pareto_df['dataset'])\n",
    "\n",
    "color_dict = {\"standard\":\"blue\", \"strong\":\"red\", \"optimistic\":\"green\", 'oracle':\"pink\",'var_min_oracle':\"orange\"}\n",
    "\n",
    "fig,ax = plt.subplots()\n",
    "fig.set_size_inches(12,6)\n",
    "ax.scatter(x, y, color=[color_dict[item] for item in colors])\n",
    "plt.xlabel('standard deviation of play %')\n",
    "plt.ylabel('total regret')\n",
    "\n",
    "labels = pareto_df['eta'].to_numpy()\n",
    "\n",
    "red_patch = mpatches.Patch(color='red', label='strong')\n",
    "blue_patch = mpatches.Patch(color='blue', label='eb')\n",
    "green_patch = mpatches.Patch(color='green', label='opt')\n",
    "pink_patch = mpatches.Patch(color='pink', label='oracle')\n",
    "orange_patch = mpatches.Patch(color='orange', label='var_min_oracle')\n",
    "plt.legend(handles=[red_patch, blue_patch, green_patch, pink_patch, orange_patch])\n",
    "\n",
    "for i in range(labels.shape[0]):\n",
    "    ax.annotate(f\"{labels[i]}\", (x[i], y[i]))"
   ]
  },
  {
   "cell_type": "markdown",
   "id": "021f2b89-6858-4e47-b292-24323679339c",
   "metadata": {},
   "source": [
    "## How does this trade-off in efficiency and variance manifest, exactly? Who are the winners and losers?"
   ]
  },
  {
   "cell_type": "code",
   "execution_count": 29,
   "id": "52a2e6c2-2fa5-4633-ae57-e83ea7e314cb",
   "metadata": {},
   "outputs": [],
   "source": [
    "def get_binned_plays_array(datadict, video_df, num_quants, cutoff=0):\n",
    "    plays_data = [[] for _ in range(num_quants)]\n",
    "    quantile_df = pd.cut(video_df, np.linspace(0,1,num_quants+1), labels=range(num_quants))\n",
    "    for item in datadict:\n",
    "        quant = plays_data[quantile_df[item]]\n",
    "        \n",
    "        for lifespan in datadict[item]:\n",
    "            if lifespan.shape[0] > cutoff:\n",
    "                final_score = lifespan[-1]\n",
    "                quant.append((final_score[0] + final_score[1] - np.sum(lifespan[0]))/lifespan.shape[0])\n",
    "\n",
    "    return plays_data\n"
   ]
  },
  {
   "cell_type": "code",
   "execution_count": 30,
   "id": "33f3717f-812d-4306-ac0e-51b9d6c5b719",
   "metadata": {},
   "outputs": [],
   "source": [
    "num_quants = 20\n",
    "plays_data = {}\n",
    "for k in data_dict:\n",
    "    if 'standard' in k:\n",
    "        plays_data[k[0]] = get_binned_plays_array(data_dict[k], video_df, num_quants, cutoff=10)\n",
    "  "
   ]
  },
  {
   "cell_type": "code",
   "execution_count": 31,
   "id": "493e5a98-3818-47e6-a900-2c2cc88dce3c",
   "metadata": {},
   "outputs": [
    {
     "data": {
      "image/png": "[encoded data removed]",
      "text/plain": [
       "<Figure size 1440x360 with 4 Axes>"
      ]
     },
     "metadata": {
      "needs_background": "light"
     },
     "output_type": "display_data"
    }
   ],
   "source": [
    "keys_to_plot = [0.0, 0.3, 0.6, 1.0]\n",
    "\n",
    "f,axes = plt.subplots(1, len(keys_to_plot))\n",
    "f.set_size_inches(20,5)\n",
    "f.tight_layout(h_pad=5)\n",
    "for i in range(len(keys_to_plot)):\n",
    "    plt.sca(axes[i])\n",
    "    curr_dataset = plays_data[keys_to_plot[i]]\n",
    "    plt.ylim((0,1))\n",
    "    plt.title(keys_to_plot[i])\n",
    "    if i==0:\n",
    "        plt.ylabel('play %')\n",
    "    plt.boxplot(curr_dataset, labels=range(1,num_quants+1), whis=8, showmeans=True)\n",
    "    plt.xlabel('quantile')"
   ]
  },
  {
   "cell_type": "code",
   "execution_count": 32,
   "id": "06eec5ee-f762-430a-b63a-a82990d44c94",
   "metadata": {},
   "outputs": [
    {
     "name": "stdout",
     "output_type": "stream",
     "text": [
      "means\n"
     ]
    },
    {
     "name": "stderr",
     "output_type": "stream",
     "text": [
      "/Library/Frameworks/Python.framework/Versions/3.9/lib/python3.9/site-packages/numpy/core/fromnumeric.py:3440: RuntimeWarning: Mean of empty slice.\n",
      "  return _methods._mean(a, axis=axis, dtype=dtype,\n",
      "/Library/Frameworks/Python.framework/Versions/3.9/lib/python3.9/site-packages/numpy/core/_methods.py:189: RuntimeWarning: invalid value encountered in double_scalars\n",
      "  ret = ret.dtype.type(ret / rcount)\n"
     ]
    },
    {
     "data": {
      "text/html": [
       "<div>\n",
       "<style scoped>\n",
       "    .dataframe tbody tr th:only-of-type {\n",
       "        vertical-align: middle;\n",
       "    }\n",
       "\n",
       "    .dataframe tbody tr th {\n",
       "        vertical-align: top;\n",
       "    }\n",
       "\n",
       "    .dataframe thead th {\n",
       "        text-align: right;\n",
       "    }\n",
       "</style>\n",
       "<table border=\"1\" class=\"dataframe\">\n",
       "  <thead>\n",
       "    <tr style=\"text-align: right;\">\n",
       "      <th></th>\n",
       "      <th>0.0</th>\n",
       "      <th>0.3</th>\n",
       "      <th>0.6</th>\n",
       "      <th>1.0</th>\n",
       "    </tr>\n",
       "  </thead>\n",
       "  <tbody>\n",
       "    <tr>\n",
       "      <th>0</th>\n",
       "      <td>0.017237</td>\n",
       "      <td>0.020131</td>\n",
       "      <td>0.021542</td>\n",
       "      <td>0.023449</td>\n",
       "    </tr>\n",
       "    <tr>\n",
       "      <th>1</th>\n",
       "      <td>0.018083</td>\n",
       "      <td>0.019943</td>\n",
       "      <td>0.022151</td>\n",
       "      <td>0.023840</td>\n",
       "    </tr>\n",
       "    <tr>\n",
       "      <th>2</th>\n",
       "      <td>0.018803</td>\n",
       "      <td>0.021824</td>\n",
       "      <td>0.023051</td>\n",
       "      <td>0.024385</td>\n",
       "    </tr>\n",
       "    <tr>\n",
       "      <th>3</th>\n",
       "      <td>0.020331</td>\n",
       "      <td>0.023643</td>\n",
       "      <td>0.023741</td>\n",
       "      <td>0.026057</td>\n",
       "    </tr>\n",
       "    <tr>\n",
       "      <th>4</th>\n",
       "      <td>0.020735</td>\n",
       "      <td>0.022653</td>\n",
       "      <td>0.024175</td>\n",
       "      <td>0.026530</td>\n",
       "    </tr>\n",
       "    <tr>\n",
       "      <th>5</th>\n",
       "      <td>0.021853</td>\n",
       "      <td>0.023214</td>\n",
       "      <td>0.025789</td>\n",
       "      <td>0.026284</td>\n",
       "    </tr>\n",
       "    <tr>\n",
       "      <th>6</th>\n",
       "      <td>0.023027</td>\n",
       "      <td>0.025615</td>\n",
       "      <td>0.026435</td>\n",
       "      <td>0.028093</td>\n",
       "    </tr>\n",
       "    <tr>\n",
       "      <th>7</th>\n",
       "      <td>0.026181</td>\n",
       "      <td>0.028336</td>\n",
       "      <td>0.028194</td>\n",
       "      <td>0.029400</td>\n",
       "    </tr>\n",
       "    <tr>\n",
       "      <th>8</th>\n",
       "      <td>NaN</td>\n",
       "      <td>NaN</td>\n",
       "      <td>NaN</td>\n",
       "      <td>NaN</td>\n",
       "    </tr>\n",
       "    <tr>\n",
       "      <th>9</th>\n",
       "      <td>NaN</td>\n",
       "      <td>NaN</td>\n",
       "      <td>NaN</td>\n",
       "      <td>NaN</td>\n",
       "    </tr>\n",
       "    <tr>\n",
       "      <th>10</th>\n",
       "      <td>0.033317</td>\n",
       "      <td>0.033212</td>\n",
       "      <td>0.033396</td>\n",
       "      <td>0.033573</td>\n",
       "    </tr>\n",
       "    <tr>\n",
       "      <th>11</th>\n",
       "      <td>NaN</td>\n",
       "      <td>NaN</td>\n",
       "      <td>NaN</td>\n",
       "      <td>NaN</td>\n",
       "    </tr>\n",
       "    <tr>\n",
       "      <th>12</th>\n",
       "      <td>NaN</td>\n",
       "      <td>NaN</td>\n",
       "      <td>NaN</td>\n",
       "      <td>NaN</td>\n",
       "    </tr>\n",
       "    <tr>\n",
       "      <th>13</th>\n",
       "      <td>NaN</td>\n",
       "      <td>NaN</td>\n",
       "      <td>NaN</td>\n",
       "      <td>NaN</td>\n",
       "    </tr>\n",
       "    <tr>\n",
       "      <th>14</th>\n",
       "      <td>0.048333</td>\n",
       "      <td>0.044165</td>\n",
       "      <td>0.044982</td>\n",
       "      <td>0.045564</td>\n",
       "    </tr>\n",
       "    <tr>\n",
       "      <th>15</th>\n",
       "      <td>0.058410</td>\n",
       "      <td>0.053062</td>\n",
       "      <td>0.050607</td>\n",
       "      <td>0.052229</td>\n",
       "    </tr>\n",
       "    <tr>\n",
       "      <th>16</th>\n",
       "      <td>0.071563</td>\n",
       "      <td>0.065115</td>\n",
       "      <td>0.061628</td>\n",
       "      <td>0.059906</td>\n",
       "    </tr>\n",
       "    <tr>\n",
       "      <th>17</th>\n",
       "      <td>0.090976</td>\n",
       "      <td>0.080679</td>\n",
       "      <td>0.073531</td>\n",
       "      <td>0.074013</td>\n",
       "    </tr>\n",
       "    <tr>\n",
       "      <th>18</th>\n",
       "      <td>0.125890</td>\n",
       "      <td>0.108601</td>\n",
       "      <td>0.101230</td>\n",
       "      <td>0.097868</td>\n",
       "    </tr>\n",
       "    <tr>\n",
       "      <th>19</th>\n",
       "      <td>0.167872</td>\n",
       "      <td>0.139973</td>\n",
       "      <td>0.126659</td>\n",
       "      <td>0.119680</td>\n",
       "    </tr>\n",
       "  </tbody>\n",
       "</table>\n",
       "</div>"
      ],
      "text/plain": [
       "         0.0       0.3       0.6       1.0\n",
       "0   0.017237  0.020131  0.021542  0.023449\n",
       "1   0.018083  0.019943  0.022151  0.023840\n",
       "2   0.018803  0.021824  0.023051  0.024385\n",
       "3   0.020331  0.023643  0.023741  0.026057\n",
       "4   0.020735  0.022653  0.024175  0.026530\n",
       "5   0.021853  0.023214  0.025789  0.026284\n",
       "6   0.023027  0.025615  0.026435  0.028093\n",
       "7   0.026181  0.028336  0.028194  0.029400\n",
       "8        NaN       NaN       NaN       NaN\n",
       "9        NaN       NaN       NaN       NaN\n",
       "10  0.033317  0.033212  0.033396  0.033573\n",
       "11       NaN       NaN       NaN       NaN\n",
       "12       NaN       NaN       NaN       NaN\n",
       "13       NaN       NaN       NaN       NaN\n",
       "14  0.048333  0.044165  0.044982  0.045564\n",
       "15  0.058410  0.053062  0.050607  0.052229\n",
       "16  0.071563  0.065115  0.061628  0.059906\n",
       "17  0.090976  0.080679  0.073531  0.074013\n",
       "18  0.125890  0.108601  0.101230  0.097868\n",
       "19  0.167872  0.139973  0.126659  0.119680"
      ]
     },
     "execution_count": 32,
     "metadata": {},
     "output_type": "execute_result"
    }
   ],
   "source": [
    "df_dict = {}\n",
    "for i in range(len(keys_to_plot)):\n",
    "    column = [np.mean(item) for item in plays_data[keys_to_plot[i]]]\n",
    "    df_dict[keys_to_plot[i]] = column\n",
    "\n",
    "print('means')\n",
    "pd.DataFrame(df_dict)"
   ]
  },
  {
   "cell_type": "code",
   "execution_count": 33,
   "id": "5e25ba92-c45f-41b2-8da6-a197a76baa17",
   "metadata": {},
   "outputs": [
    {
     "name": "stdout",
     "output_type": "stream",
     "text": [
      "stds\n"
     ]
    },
    {
     "name": "stderr",
     "output_type": "stream",
     "text": [
      "/Library/Frameworks/Python.framework/Versions/3.9/lib/python3.9/site-packages/numpy/core/_methods.py:262: RuntimeWarning: Degrees of freedom <= 0 for slice\n",
      "  ret = _var(a, axis=axis, dtype=dtype, out=out, ddof=ddof,\n",
      "/Library/Frameworks/Python.framework/Versions/3.9/lib/python3.9/site-packages/numpy/core/_methods.py:222: RuntimeWarning: invalid value encountered in true_divide\n",
      "  arrmean = um.true_divide(arrmean, div, out=arrmean, casting='unsafe',\n",
      "/Library/Frameworks/Python.framework/Versions/3.9/lib/python3.9/site-packages/numpy/core/_methods.py:254: RuntimeWarning: invalid value encountered in double_scalars\n",
      "  ret = ret.dtype.type(ret / rcount)\n"
     ]
    },
    {
     "data": {
      "text/html": [
       "<div>\n",
       "<style scoped>\n",
       "    .dataframe tbody tr th:only-of-type {\n",
       "        vertical-align: middle;\n",
       "    }\n",
       "\n",
       "    .dataframe tbody tr th {\n",
       "        vertical-align: top;\n",
       "    }\n",
       "\n",
       "    .dataframe thead th {\n",
       "        text-align: right;\n",
       "    }\n",
       "</style>\n",
       "<table border=\"1\" class=\"dataframe\">\n",
       "  <thead>\n",
       "    <tr style=\"text-align: right;\">\n",
       "      <th></th>\n",
       "      <th>0.0</th>\n",
       "      <th>0.3</th>\n",
       "      <th>0.6</th>\n",
       "      <th>1.0</th>\n",
       "    </tr>\n",
       "  </thead>\n",
       "  <tbody>\n",
       "    <tr>\n",
       "      <th>0</th>\n",
       "      <td>0.017098</td>\n",
       "      <td>0.019213</td>\n",
       "      <td>0.021275</td>\n",
       "      <td>0.022342</td>\n",
       "    </tr>\n",
       "    <tr>\n",
       "      <th>1</th>\n",
       "      <td>0.019149</td>\n",
       "      <td>0.018967</td>\n",
       "      <td>0.021439</td>\n",
       "      <td>0.023117</td>\n",
       "    </tr>\n",
       "    <tr>\n",
       "      <th>2</th>\n",
       "      <td>0.018831</td>\n",
       "      <td>0.021816</td>\n",
       "      <td>0.023041</td>\n",
       "      <td>0.023716</td>\n",
       "    </tr>\n",
       "    <tr>\n",
       "      <th>3</th>\n",
       "      <td>0.021739</td>\n",
       "      <td>0.022708</td>\n",
       "      <td>0.023867</td>\n",
       "      <td>0.026874</td>\n",
       "    </tr>\n",
       "    <tr>\n",
       "      <th>4</th>\n",
       "      <td>0.022016</td>\n",
       "      <td>0.020523</td>\n",
       "      <td>0.023765</td>\n",
       "      <td>0.024390</td>\n",
       "    </tr>\n",
       "    <tr>\n",
       "      <th>5</th>\n",
       "      <td>0.023047</td>\n",
       "      <td>0.022588</td>\n",
       "      <td>0.023886</td>\n",
       "      <td>0.025486</td>\n",
       "    </tr>\n",
       "    <tr>\n",
       "      <th>6</th>\n",
       "      <td>0.024602</td>\n",
       "      <td>0.024516</td>\n",
       "      <td>0.024567</td>\n",
       "      <td>0.028448</td>\n",
       "    </tr>\n",
       "    <tr>\n",
       "      <th>7</th>\n",
       "      <td>0.028840</td>\n",
       "      <td>0.028519</td>\n",
       "      <td>0.028976</td>\n",
       "      <td>0.028205</td>\n",
       "    </tr>\n",
       "    <tr>\n",
       "      <th>8</th>\n",
       "      <td>NaN</td>\n",
       "      <td>NaN</td>\n",
       "      <td>NaN</td>\n",
       "      <td>NaN</td>\n",
       "    </tr>\n",
       "    <tr>\n",
       "      <th>9</th>\n",
       "      <td>NaN</td>\n",
       "      <td>NaN</td>\n",
       "      <td>NaN</td>\n",
       "      <td>NaN</td>\n",
       "    </tr>\n",
       "    <tr>\n",
       "      <th>10</th>\n",
       "      <td>0.035940</td>\n",
       "      <td>0.031188</td>\n",
       "      <td>0.030711</td>\n",
       "      <td>0.031098</td>\n",
       "    </tr>\n",
       "    <tr>\n",
       "      <th>11</th>\n",
       "      <td>NaN</td>\n",
       "      <td>NaN</td>\n",
       "      <td>NaN</td>\n",
       "      <td>NaN</td>\n",
       "    </tr>\n",
       "    <tr>\n",
       "      <th>12</th>\n",
       "      <td>NaN</td>\n",
       "      <td>NaN</td>\n",
       "      <td>NaN</td>\n",
       "      <td>NaN</td>\n",
       "    </tr>\n",
       "    <tr>\n",
       "      <th>13</th>\n",
       "      <td>NaN</td>\n",
       "      <td>NaN</td>\n",
       "      <td>NaN</td>\n",
       "      <td>NaN</td>\n",
       "    </tr>\n",
       "    <tr>\n",
       "      <th>14</th>\n",
       "      <td>0.049457</td>\n",
       "      <td>0.041898</td>\n",
       "      <td>0.043425</td>\n",
       "      <td>0.041442</td>\n",
       "    </tr>\n",
       "    <tr>\n",
       "      <th>15</th>\n",
       "      <td>0.060229</td>\n",
       "      <td>0.050460</td>\n",
       "      <td>0.050598</td>\n",
       "      <td>0.048233</td>\n",
       "    </tr>\n",
       "    <tr>\n",
       "      <th>16</th>\n",
       "      <td>0.074161</td>\n",
       "      <td>0.065452</td>\n",
       "      <td>0.063527</td>\n",
       "      <td>0.060935</td>\n",
       "    </tr>\n",
       "    <tr>\n",
       "      <th>17</th>\n",
       "      <td>0.091240</td>\n",
       "      <td>0.085687</td>\n",
       "      <td>0.081076</td>\n",
       "      <td>0.082549</td>\n",
       "    </tr>\n",
       "    <tr>\n",
       "      <th>18</th>\n",
       "      <td>0.123477</td>\n",
       "      <td>0.120485</td>\n",
       "      <td>0.121213</td>\n",
       "      <td>0.120120</td>\n",
       "    </tr>\n",
       "    <tr>\n",
       "      <th>19</th>\n",
       "      <td>0.157290</td>\n",
       "      <td>0.156709</td>\n",
       "      <td>0.156039</td>\n",
       "      <td>0.150887</td>\n",
       "    </tr>\n",
       "  </tbody>\n",
       "</table>\n",
       "</div>"
      ],
      "text/plain": [
       "         0.0       0.3       0.6       1.0\n",
       "0   0.017098  0.019213  0.021275  0.022342\n",
       "1   0.019149  0.018967  0.021439  0.023117\n",
       "2   0.018831  0.021816  0.023041  0.023716\n",
       "3   0.021739  0.022708  0.023867  0.026874\n",
       "4   0.022016  0.020523  0.023765  0.024390\n",
       "5   0.023047  0.022588  0.023886  0.025486\n",
       "6   0.024602  0.024516  0.024567  0.028448\n",
       "7   0.028840  0.028519  0.028976  0.028205\n",
       "8        NaN       NaN       NaN       NaN\n",
       "9        NaN       NaN       NaN       NaN\n",
       "10  0.035940  0.031188  0.030711  0.031098\n",
       "11       NaN       NaN       NaN       NaN\n",
       "12       NaN       NaN       NaN       NaN\n",
       "13       NaN       NaN       NaN       NaN\n",
       "14  0.049457  0.041898  0.043425  0.041442\n",
       "15  0.060229  0.050460  0.050598  0.048233\n",
       "16  0.074161  0.065452  0.063527  0.060935\n",
       "17  0.091240  0.085687  0.081076  0.082549\n",
       "18  0.123477  0.120485  0.121213  0.120120\n",
       "19  0.157290  0.156709  0.156039  0.150887"
      ]
     },
     "execution_count": 33,
     "metadata": {},
     "output_type": "execute_result"
    }
   ],
   "source": [
    "df_dict = {}\n",
    "for i in range(len(keys_to_plot)):\n",
    "    column = [np.std(item) for item in plays_data[keys_to_plot[i]]]\n",
    "    df_dict[keys_to_plot[i]] = column\n",
    "\n",
    "print('stds')\n",
    "pd.DataFrame(df_dict)"
   ]
  },
  {
   "cell_type": "markdown",
   "id": "2f868043-37dc-4f68-80c6-d331c6903251",
   "metadata": {},
   "source": [
    "## At what points in product lifetime are the effects of changing the prior most pronounced?"
   ]
  },
  {
   "cell_type": "code",
   "execution_count": 34,
   "id": "9a21590a-2063-486c-9fee-523f5d216fee",
   "metadata": {},
   "outputs": [],
   "source": [
    "def get_num_plays(datadict, horizon=10, plays_cap=3):\n",
    "    hist = [0 for _ in range(plays_cap+1)]\n",
    "    for item in datadict:\n",
    "        for lifespan in datadict[item]:\n",
    "            if lifespan.shape[0] >= horizon:\n",
    "                num_plays = int(np.sum(lifespan[horizon-1,:] - lifespan[0,:]))\n",
    "                if num_plays >= plays_cap:\n",
    "                    num_plays=plays_cap\n",
    "                    \n",
    "                hist[num_plays] += 1\n",
    "                \n",
    "    return np.array(hist)"
   ]
  },
  {
   "cell_type": "code",
   "execution_count": 35,
   "id": "6bb9f78c-581c-437f-b599-a39bfd10414c",
   "metadata": {},
   "outputs": [],
   "source": [
    "horizon=10\n",
    "plays_cap=3\n",
    "\n",
    "early_plays_dict = dict()\n",
    "for k in data_dict:\n",
    "    if 'standard' in k:\n",
    "        early_plays_dict[k[0]] = get_num_plays(data_dict[k], horizon, plays_cap)"
   ]
  },
  {
   "cell_type": "code",
   "execution_count": 36,
   "id": "653b2735-4648-447c-a445-4962b36e1c4c",
   "metadata": {},
   "outputs": [
    {
     "data": {
      "image/png": "[encoded data removed]",
      "text/plain": [
       "<Figure size 864x432 with 1 Axes>"
      ]
     },
     "metadata": {
      "needs_background": "light"
     },
     "output_type": "display_data"
    }
   ],
   "source": [
    "keys_to_plot = [0.0, 0.2, 0.4, 0.6, 0.8, 1.0]\n",
    "\n",
    "x = [str(i) for i in range(plays_cap+1)]\n",
    "x[-1] = x[-1] + '+'\n",
    "fig, ax = plt.subplots()\n",
    "\n",
    "fig.set_size_inches(12,6)\n",
    "\n",
    "for i in range(len(keys_to_plot)):\n",
    "    curr_dataset = early_plays_dict[keys_to_plot[i]]/np.sum(early_plays_dict[keys_to_plot[i]])\n",
    "    ax.bar(x=[k + 0.1*i for k in range(plays_cap+1)],height=curr_dataset, width=0.1, label=keys_to_plot[i])\n",
    "    ax.set_xticks([k + 0.25 for k in range(plays_cap+1)], x)\n",
    "    ax.legend()\n",
    "    plt.ylabel('frequency')\n",
    "    plt.xlabel('number of plays in first 10 timesteps')"
   ]
  },
  {
   "cell_type": "code",
   "execution_count": null,
   "id": "3385086e-7270-4888-b861-9a5060140dfe",
   "metadata": {},
   "outputs": [],
   "source": []
  },
  {
   "cell_type": "code",
   "execution_count": null,
   "id": "ac0abde3-6b25-4cc6-ba58-2ed91b31fae9",
   "metadata": {},
   "outputs": [],
   "source": []
  }
 ],
 "metadata": {
  "kernelspec": {
   "display_name": "Python 3 (ipykernel)",
   "language": "python",
   "name": "python3"
  },
  "language_info": {
   "codemirror_mode": {
    "name": "ipython",
    "version": 3
   },
   "file_extension": ".py",
   "mimetype": "text/x-python",
   "name": "python",
   "nbconvert_exporter": "python",
   "pygments_lexer": "ipython3",
   "version": "3.9.7"
  }
 },
 "nbformat": 4,
 "nbformat_minor": 5
}
