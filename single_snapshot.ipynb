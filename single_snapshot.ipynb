{
 "cells": [
  {
   "cell_type": "markdown",
   "id": "2d504b80-47ce-4882-add9-631c49fc32e8",
   "metadata": {},
   "source": [
    "## Step 0: Imports"
   ]
  },
  {
   "cell_type": "code",
   "execution_count": 60,
   "id": "3831ed4f-8bd3-4873-b887-e699d790fbc0",
   "metadata": {},
   "outputs": [],
   "source": [
    "import numpy as np\n",
    "import pandas as pd\n",
    "import scipy\n",
    "import random\n",
    "import matplotlib.pyplot as plt\n",
    "import seaborn as sns\n",
    "import copy\n",
    "\n",
    "from sklearn.model_selection import train_test_split\n",
    "from scipy.stats import beta"
   ]
  },
  {
   "cell_type": "code",
   "execution_count": 62,
   "id": "6e6c5dc7-70c7-442e-8191-394c7456099a",
   "metadata": {},
   "outputs": [
    {
     "data": {
      "text/plain": [
       "array([0.  , 0.02, 0.04, 0.06, 0.08, 0.1 , 0.12, 0.14, 0.16, 0.18, 0.2 ,\n",
       "       0.22, 0.24, 0.26, 0.28, 0.3 , 0.32, 0.34, 0.36, 0.38, 0.4 , 0.42,\n",
       "       0.44, 0.46, 0.48, 0.5 , 0.52, 0.54, 0.56, 0.58, 0.6 , 0.62, 0.64,\n",
       "       0.66, 0.68, 0.7 , 0.72, 0.74, 0.76, 0.78, 0.8 , 0.82, 0.84, 0.86,\n",
       "       0.88, 0.9 , 0.92, 0.94, 0.96, 0.98, 1.  ])"
      ]
     },
     "execution_count": 62,
     "metadata": {},
     "output_type": "execute_result"
    }
   ],
   "source": [
    "np.linspace(0,1,51)"
   ]
  },
  {
   "cell_type": "markdown",
   "id": "0fb59e3c-7746-483e-a50f-6a8361f73fa7",
   "metadata": {},
   "source": [
    "## Step 1: Fit prior"
   ]
  },
  {
   "cell_type": "code",
   "execution_count": 30,
   "id": "f6c75906-b19c-4c36-a2f6-cf7cad18bfe6",
   "metadata": {},
   "outputs": [],
   "source": [
    "kuairec_df = pd.read_csv('KuaiRec 2.0/data/small_matrix.csv')"
   ]
  },
  {
   "cell_type": "code",
   "execution_count": 31,
   "id": "f6d9d4e6-f463-46e3-a942-a5ad9cba4e4f",
   "metadata": {},
   "outputs": [],
   "source": [
    "kuairec_df['liked'] = kuairec_df['watch_ratio'] > 0.5\n",
    "kuairec_df['liked'] = kuairec_df['liked'].astype(int)"
   ]
  },
  {
   "cell_type": "code",
   "execution_count": 32,
   "id": "4be0fbbf-72a4-4c65-b481-1d90deb3879a",
   "metadata": {},
   "outputs": [],
   "source": [
    "video_df = kuairec_df.groupby(['video_id']).mean()['liked']"
   ]
  },
  {
   "cell_type": "code",
   "execution_count": 33,
   "id": "2bf3fc29-bdd7-40a4-a839-bd6ced21ebbd",
   "metadata": {},
   "outputs": [],
   "source": [
    "train_videos, test_videos = train_test_split(video_df, test_size = 0.4, random_state=1729)"
   ]
  },
  {
   "cell_type": "code",
   "execution_count": 34,
   "id": "bc285fd8-b2a8-4a2b-b41f-ff73e9d5656e",
   "metadata": {},
   "outputs": [],
   "source": [
    "# look up zero-inflated fits for beta, we're throwing out a small fraction of 0-like videos\n",
    "prior_a, prior_b, loc, scale = beta.fit([i for i in train_videos.values if i != 0], floc=0, fscale=1)"
   ]
  },
  {
   "cell_type": "code",
   "execution_count": 35,
   "id": "835ffa98-bd21-4423-ba15-e8d27a4bf41d",
   "metadata": {},
   "outputs": [
    {
     "name": "stdout",
     "output_type": "stream",
     "text": [
      "1.2198829002152192 0.6724417944377338\n"
     ]
    }
   ],
   "source": [
    "print(prior_a, prior_b)"
   ]
  },
  {
   "cell_type": "code",
   "execution_count": 36,
   "id": "e6876a79-59a0-4b8e-b48f-796ad37685f1",
   "metadata": {},
   "outputs": [],
   "source": [
    "r = beta.rvs(prior_a, prior_b, size=5000)"
   ]
  },
  {
   "cell_type": "code",
   "execution_count": 37,
   "id": "e51057ab-52de-46e6-9698-37f988675e50",
   "metadata": {},
   "outputs": [
    {
     "data": {
      "text/plain": [
       "Text(0.5, 1.0, 'density plot of eb beta prior')"
      ]
     },
     "execution_count": 37,
     "metadata": {},
     "output_type": "execute_result"
    },
    {
     "data": {
      "image/png": "[encoded data removed]",
      "text/plain": [
       "<Figure size 432x288 with 1 Axes>"
      ]
     },
     "metadata": {
      "needs_background": "light"
     },
     "output_type": "display_data"
    }
   ],
   "source": [
    "sns.kdeplot(r).set_title('density plot of eb beta prior')"
   ]
  },
  {
   "cell_type": "markdown",
   "id": "c2de8a9d-e07d-4447-9593-56dc5e077243",
   "metadata": {},
   "source": [
    "## Step 2: Train/test split"
   ]
  },
  {
   "cell_type": "code",
   "execution_count": 38,
   "id": "110a47fe-520f-442d-b8b5-254fafea8c37",
   "metadata": {},
   "outputs": [],
   "source": [
    "kuairec_test = pd.merge(kuairec_df, test_videos, on='video_id')\n",
    "kuairec_test = kuairec_test.rename(columns={'liked_x': 'liked', 'liked_y': 'like_ratio'})"
   ]
  },
  {
   "cell_type": "code",
   "execution_count": 39,
   "id": "363e7183-89de-478b-a701-72e5f71b61db",
   "metadata": {},
   "outputs": [
    {
     "data": {
      "text/html": [
       "<div>\n",
       "<style scoped>\n",
       "    .dataframe tbody tr th:only-of-type {\n",
       "        vertical-align: middle;\n",
       "    }\n",
       "\n",
       "    .dataframe tbody tr th {\n",
       "        vertical-align: top;\n",
       "    }\n",
       "\n",
       "    .dataframe thead th {\n",
       "        text-align: right;\n",
       "    }\n",
       "</style>\n",
       "<table border=\"1\" class=\"dataframe\">\n",
       "  <thead>\n",
       "    <tr style=\"text-align: right;\">\n",
       "      <th></th>\n",
       "      <th>user_id</th>\n",
       "      <th>video_id</th>\n",
       "      <th>play_duration</th>\n",
       "      <th>video_duration</th>\n",
       "      <th>time</th>\n",
       "      <th>date</th>\n",
       "      <th>timestamp</th>\n",
       "      <th>watch_ratio</th>\n",
       "      <th>liked</th>\n",
       "      <th>like_ratio</th>\n",
       "    </tr>\n",
       "  </thead>\n",
       "  <tbody>\n",
       "    <tr>\n",
       "      <th>0</th>\n",
       "      <td>14</td>\n",
       "      <td>183</td>\n",
       "      <td>11635</td>\n",
       "      <td>6100</td>\n",
       "      <td>2020-07-05 05:28:00.057</td>\n",
       "      <td>20200705.0</td>\n",
       "      <td>1.593898e+09</td>\n",
       "      <td>1.907377</td>\n",
       "      <td>1</td>\n",
       "      <td>0.929128</td>\n",
       "    </tr>\n",
       "    <tr>\n",
       "      <th>1</th>\n",
       "      <td>19</td>\n",
       "      <td>183</td>\n",
       "      <td>8033</td>\n",
       "      <td>6100</td>\n",
       "      <td>2020-07-25 09:51:33.664</td>\n",
       "      <td>20200725.0</td>\n",
       "      <td>1.595642e+09</td>\n",
       "      <td>1.316885</td>\n",
       "      <td>1</td>\n",
       "      <td>0.929128</td>\n",
       "    </tr>\n",
       "    <tr>\n",
       "      <th>2</th>\n",
       "      <td>21</td>\n",
       "      <td>183</td>\n",
       "      <td>15770</td>\n",
       "      <td>6100</td>\n",
       "      <td>2020-07-08 07:00:20.865</td>\n",
       "      <td>20200708.0</td>\n",
       "      <td>1.594163e+09</td>\n",
       "      <td>2.585246</td>\n",
       "      <td>1</td>\n",
       "      <td>0.929128</td>\n",
       "    </tr>\n",
       "    <tr>\n",
       "      <th>3</th>\n",
       "      <td>23</td>\n",
       "      <td>183</td>\n",
       "      <td>20786</td>\n",
       "      <td>6100</td>\n",
       "      <td>2020-07-05 07:50:01.81</td>\n",
       "      <td>20200705.0</td>\n",
       "      <td>1.593907e+09</td>\n",
       "      <td>3.407541</td>\n",
       "      <td>1</td>\n",
       "      <td>0.929128</td>\n",
       "    </tr>\n",
       "    <tr>\n",
       "      <th>4</th>\n",
       "      <td>24</td>\n",
       "      <td>183</td>\n",
       "      <td>4737</td>\n",
       "      <td>6100</td>\n",
       "      <td>2020-07-05 03:47:59.561</td>\n",
       "      <td>20200705.0</td>\n",
       "      <td>1.593892e+09</td>\n",
       "      <td>0.776557</td>\n",
       "      <td>1</td>\n",
       "      <td>0.929128</td>\n",
       "    </tr>\n",
       "  </tbody>\n",
       "</table>\n",
       "</div>"
      ],
      "text/plain": [
       "   user_id  video_id  play_duration  video_duration                     time  \\\n",
       "0       14       183          11635            6100  2020-07-05 05:28:00.057   \n",
       "1       19       183           8033            6100  2020-07-25 09:51:33.664   \n",
       "2       21       183          15770            6100  2020-07-08 07:00:20.865   \n",
       "3       23       183          20786            6100   2020-07-05 07:50:01.81   \n",
       "4       24       183           4737            6100  2020-07-05 03:47:59.561   \n",
       "\n",
       "         date     timestamp  watch_ratio  liked  like_ratio  \n",
       "0  20200705.0  1.593898e+09     1.907377      1    0.929128  \n",
       "1  20200725.0  1.595642e+09     1.316885      1    0.929128  \n",
       "2  20200708.0  1.594163e+09     2.585246      1    0.929128  \n",
       "3  20200705.0  1.593907e+09     3.407541      1    0.929128  \n",
       "4  20200705.0  1.593892e+09     0.776557      1    0.929128  "
      ]
     },
     "execution_count": 39,
     "metadata": {},
     "output_type": "execute_result"
    }
   ],
   "source": [
    "kuairec_test.head()"
   ]
  },
  {
   "cell_type": "code",
   "execution_count": 40,
   "id": "944fd6d3-3d8d-48d2-951f-5d484204d45b",
   "metadata": {},
   "outputs": [
    {
     "data": {
      "text/plain": [
       "Text(0.5, 1.0, 'histogram of like ratios')"
      ]
     },
     "execution_count": 40,
     "metadata": {},
     "output_type": "execute_result"
    },
    {
     "data": {
      "image/png": "[encoded data removed]",
      "text/plain": [
       "<Figure size 432x288 with 1 Axes>"
      ]
     },
     "metadata": {
      "needs_background": "light"
     },
     "output_type": "display_data"
    }
   ],
   "source": [
    "sns.histplot(test_videos.values).set_title('histogram of like ratios')"
   ]
  },
  {
   "cell_type": "code",
   "execution_count": 41,
   "id": "06067eb0-7c14-4e42-82fc-b451b755a343",
   "metadata": {},
   "outputs": [
    {
     "data": {
      "text/plain": [
       "video_id\n",
       "9136    0.002126\n",
       "883     0.005670\n",
       "8696    0.006383\n",
       "7585    0.011348\n",
       "7566    0.014883\n",
       "          ...   \n",
       "2311    0.924060\n",
       "6882    0.924167\n",
       "5252    0.924876\n",
       "2687    0.930546\n",
       "7076    0.938342\n",
       "Name: liked, Length: 100, dtype: float64"
      ]
     },
     "execution_count": 41,
     "metadata": {},
     "output_type": "execute_result"
    }
   ],
   "source": [
    "num_samples = 100\n",
    "sampled_videos = (list(test_videos.sample(num_samples, random_state=1729).keys()))\n",
    "kuairec_chosen = kuairec_test[kuairec_test['video_id'].isin(sampled_videos)]\n",
    "video_df[sampled_videos].sort_values()"
   ]
  },
  {
   "cell_type": "code",
   "execution_count": 42,
   "id": "0cc2a998-6534-4a31-8fc9-8a8e150bfbac",
   "metadata": {},
   "outputs": [
    {
     "data": {
      "text/plain": [
       "[7076, 2687, 3946, 627, 1248, 3033]"
      ]
     },
     "execution_count": 42,
     "metadata": {},
     "output_type": "execute_result"
    }
   ],
   "source": [
    "videos_of_interest = video_df[sampled_videos].sort_values()\n",
    "videos_of_interest = list(videos_of_interest.iloc[[-1, -2, num_samples//5, 2*num_samples//5, 3*num_samples//5, 4*num_samples//5]].keys())\n",
    "videos_of_interest"
   ]
  },
  {
   "cell_type": "code",
   "execution_count": 43,
   "id": "7a52a3df-27a6-4325-9dcf-d47f936688eb",
   "metadata": {},
   "outputs": [],
   "source": [
    "indices_of_interest = [sampled_videos.index(item) for item in videos_of_interest]"
   ]
  },
  {
   "cell_type": "markdown",
   "id": "f3520a8f-5f55-4c4c-a5de-9a70ac7bb53a",
   "metadata": {},
   "source": [
    "## Step 3: Set up the bandit environment"
   ]
  },
  {
   "cell_type": "code",
   "execution_count": 44,
   "id": "160d9c81-4d05-4db0-aa72-f3099970920d",
   "metadata": {},
   "outputs": [],
   "source": [
    "# set up experiment in a way where we can later interpolate between uninformed prior and eb\n",
    "uninformed_priors = np.ones(len(sampled_videos)*2).reshape(len(sampled_videos),2)\n",
    "eb_priors = np.array([[prior_a]*len(sampled_videos),[prior_b]*len(sampled_videos)]).T\n",
    "# eb_priors = np.ones(len(sampled_videos)*2).reshape(len(sampled_videos),2) + np.array([0,1])"
   ]
  },
  {
   "cell_type": "code",
   "execution_count": 45,
   "id": "11929162-4418-4000-872f-f6369d39c5ff",
   "metadata": {},
   "outputs": [],
   "source": [
    "def random_argmax(alist):\n",
    "  maxval = max(alist)\n",
    "  argmax = [idx for idx, val in enumerate(alist) if val == maxval]\n",
    "  return np.random.choice(argmax)\n",
    "\n",
    "def ts_action(actions, num_success, num_failure):\n",
    "  p_hat = [np.random.beta(num_success[a],num_failure[a]) for a in actions]\n",
    "  a = random_argmax(p_hat)\n",
    "  return a\n",
    "\n",
    "def greedy_action(actions, num_success, num_failure):\n",
    "  p_hat = [(num_success[a] + 1) / (num_success[a] + num_failure[a] + 2) for a in actions]\n",
    "  a = random_argmax(p_hat)\n",
    "  return a\n",
    "\n",
    "def epsilon_greedy_action(actions, num_success, num_failure):\n",
    "  if np.random.binomial(1, 0.05):\n",
    "    a = np.random.choice(actions)\n",
    "  else:\n",
    "    a = greedy_action(actions, num_success, num_failure)\n",
    "  return a\n",
    "\n",
    "def sample_chosen_df(videos, chosen_df, action_index):\n",
    "    vid = videos[action_index]\n",
    "    seen_like = chosen_df[chosen_df['video_id']==vid].sample(1).iloc[0]['liked']\n",
    "    return seen_like"
   ]
  },
  {
   "cell_type": "markdown",
   "id": "b6574950-5528-4ef4-aed0-c7b0426f2731",
   "metadata": {},
   "source": [
    "### Get environment from running the market for a very long time"
   ]
  },
  {
   "cell_type": "code",
   "execution_count": 46,
   "id": "6213c084-485b-444a-953c-3cffe427e512",
   "metadata": {},
   "outputs": [],
   "source": [
    "def get_environment(df, \n",
    "                    videos, \n",
    "                    priors, \n",
    "                    sampling_action, \n",
    "                    timesteps,\n",
    "                    num_sims):\n",
    "\n",
    "    posteriors = []\n",
    "    actions = range(len(videos))\n",
    "        \n",
    "    for n in range(num_sims):\n",
    "        print(f'simulation {n+1}/{num_sims}')\n",
    "        successes, failures = copy.deepcopy(priors[:,0]), copy.deepcopy(priors[:,1])\n",
    "        for t in range(timesteps):\n",
    "\n",
    "            a = sampling_action(actions, successes, failures)\n",
    "            like = sample_chosen_df(videos, df, a)\n",
    "\n",
    "            # update prior\n",
    "            successes[a] += like\n",
    "            failures[a] += 1 - like\n",
    "            \n",
    "        posteriors.append([successes, failures])\n",
    "            \n",
    "    return np.array(posteriors) "
   ]
  },
  {
   "cell_type": "markdown",
   "id": "fc3373b8-f35f-413b-b31b-198c7d4eb6e8",
   "metadata": {},
   "source": [
    "## Step 4: Simulate!"
   ]
  },
  {
   "cell_type": "code",
   "execution_count": 47,
   "id": "7aa720cf-81e8-491c-9e8b-1b4ed5811039",
   "metadata": {},
   "outputs": [],
   "source": [
    "timesteps = 30000\n",
    "num_sims = 10"
   ]
  },
  {
   "cell_type": "code",
   "execution_count": 48,
   "id": "a653e4b9-42a6-4a14-aa07-b656ed0a60a6",
   "metadata": {},
   "outputs": [
    {
     "name": "stdout",
     "output_type": "stream",
     "text": [
      "simulation 1/10\n",
      "simulation 2/10\n",
      "simulation 3/10\n",
      "simulation 4/10\n",
      "simulation 5/10\n",
      "simulation 6/10\n",
      "simulation 7/10\n",
      "simulation 8/10\n",
      "simulation 9/10\n",
      "simulation 10/10\n"
     ]
    }
   ],
   "source": [
    "uninf_posterior = get_environment(kuairec_chosen, sampled_videos, uninformed_priors, ts_action, timesteps, num_sims)"
   ]
  },
  {
   "cell_type": "code",
   "execution_count": 49,
   "id": "bae4fd72-0720-4c09-bb27-bd8561661b0a",
   "metadata": {},
   "outputs": [
    {
     "name": "stdout",
     "output_type": "stream",
     "text": [
      "simulation 1/10\n",
      "simulation 2/10\n",
      "simulation 3/10\n",
      "simulation 4/10\n",
      "simulation 5/10\n",
      "simulation 6/10\n",
      "simulation 7/10\n",
      "simulation 8/10\n",
      "simulation 9/10\n",
      "simulation 10/10\n"
     ]
    }
   ],
   "source": [
    "eb_posterior = get_environment(kuairec_chosen, sampled_videos, eb_priors, ts_action, timesteps, num_sims)"
   ]
  },
  {
   "cell_type": "code",
   "execution_count": 50,
   "id": "87af9854-6e1b-41fc-b213-8901906e1724",
   "metadata": {},
   "outputs": [],
   "source": [
    "# save the posteriors if need be\n",
    "with open('uninf_posterior.npy', 'wb') as f:\n",
    "    np.save(f, uninf_posterior)\n",
    "    f.close()\n",
    "with open('eb_posterior.npy', 'wb') as f:\n",
    "    np.save(f, eb_posterior)\n",
    "    f.close()"
   ]
  },
  {
   "cell_type": "markdown",
   "id": "b0188b19-9f58-4565-86e8-1c1de33534ff",
   "metadata": {},
   "source": [
    "## Step 5: Bring in a new product to the market and see what happens"
   ]
  },
  {
   "cell_type": "code",
   "execution_count": 51,
   "id": "3bf6fe72-c5c3-47e0-ba02-e1de205544b1",
   "metadata": {},
   "outputs": [],
   "source": [
    "# 'average' video\n",
    "ids_of_interest = [1377, 4040]\n",
    "aug_df = dict()\n",
    "for k in ids_of_interest:\n",
    "    aug_df[k] = kuairec_test[(kuairec_test['video_id'].isin(sampled_videos))|(kuairec_test['video_id']==k)]"
   ]
  },
  {
   "cell_type": "code",
   "execution_count": 52,
   "id": "cb2d8854-c51f-4912-ad29-3b0bc058c99e",
   "metadata": {},
   "outputs": [],
   "source": [
    "second_timesteps = 100"
   ]
  },
  {
   "cell_type": "code",
   "execution_count": 53,
   "id": "f00f7491-3d51-4ec8-9003-98bbbd7c3a7d",
   "metadata": {},
   "outputs": [],
   "source": [
    "def simulate_populated_env(df,\n",
    "                           videos,\n",
    "                           prior,\n",
    "                           sampling_action,\n",
    "                           posteriors,\n",
    "                           new_product,\n",
    "                           timesteps):\n",
    "    trajectories = []\n",
    "    new_videos = videos[:]\n",
    "    new_videos.append(new_product)\n",
    "    for sim in range(posteriors.shape[0]):\n",
    "        print(f'simulation {sim+1}/{posteriors.shape[0]}')\n",
    "        \n",
    "        curr_mkt = np.concatenate([posteriors[sim].T, np.expand_dims(prior,axis=0)])\n",
    "        hist = np.expand_dims(copy.deepcopy(prior),axis=0)\n",
    "        successes, failures = curr_mkt[:,0], curr_mkt[:,1]\n",
    "        actions = range(curr_mkt.shape[0])\n",
    "        for t in range(timesteps):\n",
    "            a = sampling_action(actions, successes, failures)\n",
    "            like = sample_chosen_df(new_videos, df, a)\n",
    "\n",
    "            # update prior\n",
    "            successes[a] += like\n",
    "            failures[a] += 1 - like\n",
    "            hist = np.concatenate([copy.deepcopy(hist), np.expand_dims(np.array([successes[-1], failures[-1]]),axis=0)])\n",
    "                \n",
    "        trajectories.append(hist)\n",
    "        \n",
    "    return np.array(trajectories)"
   ]
  },
  {
   "cell_type": "code",
   "execution_count": 54,
   "id": "fe8f2789-1fac-42dc-8ae6-e94141f3bf12",
   "metadata": {},
   "outputs": [
    {
     "name": "stdout",
     "output_type": "stream",
     "text": [
      "1377 uninf\n",
      "simulation 1/10\n",
      "simulation 2/10\n",
      "simulation 3/10\n",
      "simulation 4/10\n",
      "simulation 5/10\n",
      "simulation 6/10\n",
      "simulation 7/10\n",
      "simulation 8/10\n",
      "simulation 9/10\n",
      "simulation 10/10\n",
      "1377 eb\n",
      "simulation 1/10\n",
      "simulation 2/10\n",
      "simulation 3/10\n",
      "simulation 4/10\n",
      "simulation 5/10\n",
      "simulation 6/10\n",
      "simulation 7/10\n",
      "simulation 8/10\n",
      "simulation 9/10\n",
      "simulation 10/10\n",
      "4040 uninf\n",
      "simulation 1/10\n",
      "simulation 2/10\n",
      "simulation 3/10\n",
      "simulation 4/10\n",
      "simulation 5/10\n",
      "simulation 6/10\n",
      "simulation 7/10\n",
      "simulation 8/10\n",
      "simulation 9/10\n",
      "simulation 10/10\n",
      "4040 eb\n",
      "simulation 1/10\n",
      "simulation 2/10\n",
      "simulation 3/10\n",
      "simulation 4/10\n",
      "simulation 5/10\n",
      "simulation 6/10\n",
      "simulation 7/10\n",
      "simulation 8/10\n",
      "simulation 9/10\n",
      "simulation 10/10\n"
     ]
    }
   ],
   "source": [
    "trajects = dict()\n",
    "\n",
    "for k in ids_of_interest:\n",
    "    print(k, 'uninf')\n",
    "    trajects[(k,'uninf')] = simulate_populated_env(aug_df[k], \n",
    "                                                   sampled_videos, \n",
    "                                                   copy.deepcopy(uninformed_priors[0]),\n",
    "                                                   ts_action, \n",
    "                                                   uninf_posterior,\n",
    "                                                   k,\n",
    "                                                   second_timesteps)\n",
    "    print(k, 'eb')\n",
    "    trajects[(k,'eb')] = simulate_populated_env(aug_df[k], \n",
    "                                                sampled_videos, \n",
    "                                                copy.deepcopy(eb_priors[0]),\n",
    "                                                ts_action, \n",
    "                                                eb_posterior,\n",
    "                                                k,\n",
    "                                                second_timesteps)"
   ]
  },
  {
   "cell_type": "markdown",
   "id": "90ba5655-72e3-4c78-9e78-e67514008829",
   "metadata": {},
   "source": [
    "## Step 6: Plot the data from our new products and see what happens"
   ]
  },
  {
   "cell_type": "code",
   "execution_count": 55,
   "id": "7e4b48a4-0f08-4c8b-98dc-82f59bb664c5",
   "metadata": {},
   "outputs": [],
   "source": [
    "traject_data = copy.deepcopy(trajects)\n",
    "for k in traject_data:\n",
    "    traject_data[k] = traject_data[k][:,:,0]/(traject_data[k][:,:,0]+traject_data[k][:,:,1])\n",
    "    df = pd.DataFrame(traject_data[k]).melt()\n",
    "    df = df.rename(columns={'variable': 'timestep'})\n",
    "    traject_data[k] = df\n",
    "        "
   ]
  },
  {
   "cell_type": "code",
   "execution_count": 56,
   "id": "e79a04b0-b9c1-4096-9e5b-75f86c2ff5e9",
   "metadata": {},
   "outputs": [
    {
     "data": {
      "image/png": "[encoded data removed]",
      "text/plain": [
       "<Figure size 1008x576 with 4 Axes>"
      ]
     },
     "metadata": {
      "needs_background": "light"
     },
     "output_type": "display_data"
    }
   ],
   "source": [
    "i=0\n",
    "axis_tuples = [(0,0), (0,1), (1,0), (1,1)]\n",
    "f, axes = plt.subplots(2,2)\n",
    "f.set_size_inches(14,8)\n",
    "for k in traject_data:\n",
    "    plt.sca(axes[axis_tuples[i][0], axis_tuples[i][1]])\n",
    "    plt.ylim(0, 1)\n",
    "    sns.lineplot(traject_data[k],x='timestep',y='value').set_title(k)\n",
    "    i += 1"
   ]
  },
  {
   "cell_type": "code",
   "execution_count": null,
   "id": "a1ee6b18-3b86-4600-85cb-286ddc92a885",
   "metadata": {},
   "outputs": [],
   "source": []
  }
 ],
 "metadata": {
  "kernelspec": {
   "display_name": "Python 3 (ipykernel)",
   "language": "python",
   "name": "python3"
  },
  "language_info": {
   "codemirror_mode": {
    "name": "ipython",
    "version": 3
   },
   "file_extension": ".py",
   "mimetype": "text/x-python",
   "name": "python",
   "nbconvert_exporter": "python",
   "pygments_lexer": "ipython3",
   "version": "3.9.7"
  }
 },
 "nbformat": 4,
 "nbformat_minor": 5
}
